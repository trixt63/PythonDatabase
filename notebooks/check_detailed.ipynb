{
 "cells": [
  {
   "cell_type": "code",
   "execution_count": 83,
   "metadata": {},
   "outputs": [
    {
     "name": "stdout",
     "output_type": "stream",
     "text": [
      "The autoreload extension is already loaded. To reload it, use:\n",
      "  %reload_ext autoreload\n"
     ]
    }
   ],
   "source": [
    "%load_ext autoreload\n",
    "%autoreload 2\n",
    "import os\n",
    "import pandas as pd\n",
    "import sys\n",
    "from matplotlib import pyplot as plt\n",
    "import seaborn as sns\n",
    "import plotly\n",
    "sys.path.append(os.path.dirname(sys.path[0]))"
   ]
  },
  {
   "cell_type": "code",
   "execution_count": 84,
   "metadata": {},
   "outputs": [],
   "source": [
    "chain_id = '0x1'\n",
    "table_name = 'token_transfer'\n",
    "df_origin = pd.read_csv(f'../data/postgres_tables_sizes/chain_{chain_id}_{table_name}.csv')"
   ]
  },
  {
   "cell_type": "code",
   "execution_count": 85,
   "metadata": {},
   "outputs": [],
   "source": [
    "def pretty_size(input_df: pd.DataFrame): \n",
    "    _df_gb = input_df.copy()\n",
    "    for col_name in ['total_size', 'data_size', 'index_size']:\n",
    "        _df_gb[col_name] = input_df[col_name] / (1024**3)\n",
    "    return _df_gb"
   ]
  },
  {
   "cell_type": "code",
   "execution_count": 86,
   "metadata": {},
   "outputs": [
    {
     "data": {
      "text/html": [
       "<div>\n",
       "<style scoped>\n",
       "    .dataframe tbody tr th:only-of-type {\n",
       "        vertical-align: middle;\n",
       "    }\n",
       "\n",
       "    .dataframe tbody tr th {\n",
       "        vertical-align: top;\n",
       "    }\n",
       "\n",
       "    .dataframe thead th {\n",
       "        text-align: right;\n",
       "    }\n",
       "</style>\n",
       "<table border=\"1\" class=\"dataframe\">\n",
       "  <thead>\n",
       "    <tr style=\"text-align: right;\">\n",
       "      <th></th>\n",
       "      <th>time</th>\n",
       "      <th>table_name</th>\n",
       "      <th>total_size</th>\n",
       "      <th>data_size</th>\n",
       "      <th>index_size</th>\n",
       "      <th>n_live_tup</th>\n",
       "      <th>n_tup_ins</th>\n",
       "      <th>n_tup_del</th>\n",
       "    </tr>\n",
       "  </thead>\n",
       "  <tbody>\n",
       "    <tr>\n",
       "      <th>0</th>\n",
       "      <td>2024/04/12</td>\n",
       "      <td>token_transfer</td>\n",
       "      <td>187.994911</td>\n",
       "      <td>125.412674</td>\n",
       "      <td>62.547546</td>\n",
       "      <td>518937915</td>\n",
       "      <td>445621774</td>\n",
       "      <td>422076958</td>\n",
       "    </tr>\n",
       "    <tr>\n",
       "      <th>1</th>\n",
       "      <td>2024/04/13</td>\n",
       "      <td>token_transfer</td>\n",
       "      <td>189.041573</td>\n",
       "      <td>126.450233</td>\n",
       "      <td>62.556358</td>\n",
       "      <td>515010593</td>\n",
       "      <td>450837332</td>\n",
       "      <td>422076958</td>\n",
       "    </tr>\n",
       "    <tr>\n",
       "      <th>2</th>\n",
       "      <td>2024/04/14</td>\n",
       "      <td>token_transfer</td>\n",
       "      <td>189.105064</td>\n",
       "      <td>126.507294</td>\n",
       "      <td>62.562767</td>\n",
       "      <td>525680253</td>\n",
       "      <td>458485250</td>\n",
       "      <td>427713524</td>\n",
       "    </tr>\n",
       "    <tr>\n",
       "      <th>3</th>\n",
       "      <td>2024/04/15</td>\n",
       "      <td>token_transfer</td>\n",
       "      <td>189.185272</td>\n",
       "      <td>126.507294</td>\n",
       "      <td>62.642975</td>\n",
       "      <td>527187080</td>\n",
       "      <td>466129443</td>\n",
       "      <td>433721999</td>\n",
       "    </tr>\n",
       "    <tr>\n",
       "      <th>4</th>\n",
       "      <td>2024/04/16</td>\n",
       "      <td>token_transfer</td>\n",
       "      <td>190.576073</td>\n",
       "      <td>127.746376</td>\n",
       "      <td>62.794357</td>\n",
       "      <td>519512586</td>\n",
       "      <td>473106564</td>\n",
       "      <td>439256471</td>\n",
       "    </tr>\n",
       "    <tr>\n",
       "      <th>5</th>\n",
       "      <td>2024/04/17</td>\n",
       "      <td>token_transfer</td>\n",
       "      <td>190.636917</td>\n",
       "      <td>127.803238</td>\n",
       "      <td>62.798325</td>\n",
       "      <td>530172596</td>\n",
       "      <td>479416103</td>\n",
       "      <td>444904315</td>\n",
       "    </tr>\n",
       "    <tr>\n",
       "      <th>6</th>\n",
       "      <td>2024/04/18</td>\n",
       "      <td>token_transfer</td>\n",
       "      <td>190.724358</td>\n",
       "      <td>127.803238</td>\n",
       "      <td>62.885765</td>\n",
       "      <td>531178366</td>\n",
       "      <td>485363473</td>\n",
       "      <td>450896349</td>\n",
       "    </tr>\n",
       "    <tr>\n",
       "      <th>7</th>\n",
       "      <td>2024/04/19</td>\n",
       "      <td>token_transfer</td>\n",
       "      <td>190.726730</td>\n",
       "      <td>127.803238</td>\n",
       "      <td>62.888138</td>\n",
       "      <td>530908773</td>\n",
       "      <td>491639508</td>\n",
       "      <td>456863493</td>\n",
       "    </tr>\n",
       "    <tr>\n",
       "      <th>8</th>\n",
       "      <td>2024/04/20</td>\n",
       "      <td>token_transfer</td>\n",
       "      <td>190.876175</td>\n",
       "      <td>127.803238</td>\n",
       "      <td>63.037582</td>\n",
       "      <td>530647332</td>\n",
       "      <td>498970960</td>\n",
       "      <td>463147112</td>\n",
       "    </tr>\n",
       "    <tr>\n",
       "      <th>9</th>\n",
       "      <td>2024/04/21</td>\n",
       "      <td>token_transfer</td>\n",
       "      <td>191.748055</td>\n",
       "      <td>128.428253</td>\n",
       "      <td>63.284279</td>\n",
       "      <td>528694608</td>\n",
       "      <td>505392121</td>\n",
       "      <td>468099739</td>\n",
       "    </tr>\n",
       "    <tr>\n",
       "      <th>10</th>\n",
       "      <td>2024/04/22</td>\n",
       "      <td>token_transfer</td>\n",
       "      <td>191.808243</td>\n",
       "      <td>128.480766</td>\n",
       "      <td>63.291931</td>\n",
       "      <td>534009184</td>\n",
       "      <td>512223083</td>\n",
       "      <td>473234168</td>\n",
       "    </tr>\n",
       "    <tr>\n",
       "      <th>11</th>\n",
       "      <td>2024/04/23</td>\n",
       "      <td>token_transfer</td>\n",
       "      <td>192.867149</td>\n",
       "      <td>129.390671</td>\n",
       "      <td>63.440689</td>\n",
       "      <td>521972590</td>\n",
       "      <td>519515631</td>\n",
       "      <td>478462223</td>\n",
       "    </tr>\n",
       "  </tbody>\n",
       "</table>\n",
       "</div>"
      ],
      "text/plain": [
       "          time      table_name  total_size   data_size  index_size  \\\n",
       "0   2024/04/12  token_transfer  187.994911  125.412674   62.547546   \n",
       "1   2024/04/13  token_transfer  189.041573  126.450233   62.556358   \n",
       "2   2024/04/14  token_transfer  189.105064  126.507294   62.562767   \n",
       "3   2024/04/15  token_transfer  189.185272  126.507294   62.642975   \n",
       "4   2024/04/16  token_transfer  190.576073  127.746376   62.794357   \n",
       "5   2024/04/17  token_transfer  190.636917  127.803238   62.798325   \n",
       "6   2024/04/18  token_transfer  190.724358  127.803238   62.885765   \n",
       "7   2024/04/19  token_transfer  190.726730  127.803238   62.888138   \n",
       "8   2024/04/20  token_transfer  190.876175  127.803238   63.037582   \n",
       "9   2024/04/21  token_transfer  191.748055  128.428253   63.284279   \n",
       "10  2024/04/22  token_transfer  191.808243  128.480766   63.291931   \n",
       "11  2024/04/23  token_transfer  192.867149  129.390671   63.440689   \n",
       "\n",
       "    n_live_tup  n_tup_ins  n_tup_del  \n",
       "0    518937915  445621774  422076958  \n",
       "1    515010593  450837332  422076958  \n",
       "2    525680253  458485250  427713524  \n",
       "3    527187080  466129443  433721999  \n",
       "4    519512586  473106564  439256471  \n",
       "5    530172596  479416103  444904315  \n",
       "6    531178366  485363473  450896349  \n",
       "7    530908773  491639508  456863493  \n",
       "8    530647332  498970960  463147112  \n",
       "9    528694608  505392121  468099739  \n",
       "10   534009184  512223083  473234168  \n",
       "11   521972590  519515631  478462223  "
      ]
     },
     "execution_count": 86,
     "metadata": {},
     "output_type": "execute_result"
    }
   ],
   "source": [
    "pretty_size(df_origin)"
   ]
  },
  {
   "cell_type": "code",
   "execution_count": 87,
   "metadata": {},
   "outputs": [
    {
     "data": {
      "text/html": [
       "<div>\n",
       "<style scoped>\n",
       "    .dataframe tbody tr th:only-of-type {\n",
       "        vertical-align: middle;\n",
       "    }\n",
       "\n",
       "    .dataframe tbody tr th {\n",
       "        vertical-align: top;\n",
       "    }\n",
       "\n",
       "    .dataframe thead th {\n",
       "        text-align: right;\n",
       "    }\n",
       "</style>\n",
       "<table border=\"1\" class=\"dataframe\">\n",
       "  <thead>\n",
       "    <tr style=\"text-align: right;\">\n",
       "      <th></th>\n",
       "      <th>time</th>\n",
       "      <th>table_name</th>\n",
       "      <th>total_size</th>\n",
       "      <th>data_size</th>\n",
       "      <th>index_size</th>\n",
       "      <th>n_live_tup</th>\n",
       "      <th>n_tup_ins</th>\n",
       "      <th>n_tup_del</th>\n",
       "    </tr>\n",
       "  </thead>\n",
       "  <tbody>\n",
       "    <tr>\n",
       "      <th>0</th>\n",
       "      <td>2024/04/12</td>\n",
       "      <td>token_transfer</td>\n",
       "      <td>201857998848</td>\n",
       "      <td>134660833280</td>\n",
       "      <td>67159916544</td>\n",
       "      <td>518937915</td>\n",
       "      <td>445621774</td>\n",
       "      <td>422076958</td>\n",
       "    </tr>\n",
       "    <tr>\n",
       "      <th>1</th>\n",
       "      <td>2024/04/13</td>\n",
       "      <td>token_transfer</td>\n",
       "      <td>202981842944</td>\n",
       "      <td>135774904320</td>\n",
       "      <td>67169378304</td>\n",
       "      <td>515010593</td>\n",
       "      <td>450837332</td>\n",
       "      <td>422076958</td>\n",
       "    </tr>\n",
       "    <tr>\n",
       "      <th>2</th>\n",
       "      <td>2024/04/14</td>\n",
       "      <td>token_transfer</td>\n",
       "      <td>203050016768</td>\n",
       "      <td>135836172288</td>\n",
       "      <td>67176259584</td>\n",
       "      <td>525680253</td>\n",
       "      <td>458485250</td>\n",
       "      <td>427713524</td>\n",
       "    </tr>\n",
       "    <tr>\n",
       "      <th>3</th>\n",
       "      <td>2024/04/15</td>\n",
       "      <td>token_transfer</td>\n",
       "      <td>203136139264</td>\n",
       "      <td>135836172288</td>\n",
       "      <td>67262382080</td>\n",
       "      <td>527187080</td>\n",
       "      <td>466129443</td>\n",
       "      <td>433721999</td>\n",
       "    </tr>\n",
       "    <tr>\n",
       "      <th>4</th>\n",
       "      <td>2024/04/16</td>\n",
       "      <td>token_transfer</td>\n",
       "      <td>204629499904</td>\n",
       "      <td>137166626816</td>\n",
       "      <td>67424927744</td>\n",
       "      <td>519512586</td>\n",
       "      <td>473106564</td>\n",
       "      <td>439256471</td>\n",
       "    </tr>\n",
       "    <tr>\n",
       "      <th>5</th>\n",
       "      <td>2024/04/17</td>\n",
       "      <td>token_transfer</td>\n",
       "      <td>204694831104</td>\n",
       "      <td>137227681792</td>\n",
       "      <td>67429187584</td>\n",
       "      <td>530172596</td>\n",
       "      <td>479416103</td>\n",
       "      <td>444904315</td>\n",
       "    </tr>\n",
       "    <tr>\n",
       "      <th>6</th>\n",
       "      <td>2024/04/18</td>\n",
       "      <td>token_transfer</td>\n",
       "      <td>204788719616</td>\n",
       "      <td>137227681792</td>\n",
       "      <td>67523076096</td>\n",
       "      <td>531178366</td>\n",
       "      <td>485363473</td>\n",
       "      <td>450896349</td>\n",
       "    </tr>\n",
       "    <tr>\n",
       "      <th>7</th>\n",
       "      <td>2024/04/19</td>\n",
       "      <td>token_transfer</td>\n",
       "      <td>204791267328</td>\n",
       "      <td>137227681792</td>\n",
       "      <td>67525623808</td>\n",
       "      <td>530908773</td>\n",
       "      <td>491639508</td>\n",
       "      <td>456863493</td>\n",
       "    </tr>\n",
       "    <tr>\n",
       "      <th>8</th>\n",
       "      <td>2024/04/20</td>\n",
       "      <td>token_transfer</td>\n",
       "      <td>204951732224</td>\n",
       "      <td>137227681792</td>\n",
       "      <td>67686088704</td>\n",
       "      <td>530647332</td>\n",
       "      <td>498970960</td>\n",
       "      <td>463147112</td>\n",
       "    </tr>\n",
       "    <tr>\n",
       "      <th>9</th>\n",
       "      <td>2024/04/21</td>\n",
       "      <td>token_transfer</td>\n",
       "      <td>205887905792</td>\n",
       "      <td>137898786816</td>\n",
       "      <td>67950977024</td>\n",
       "      <td>528694608</td>\n",
       "      <td>505392121</td>\n",
       "      <td>468099739</td>\n",
       "    </tr>\n",
       "    <tr>\n",
       "      <th>10</th>\n",
       "      <td>2024/04/22</td>\n",
       "      <td>token_transfer</td>\n",
       "      <td>205952532480</td>\n",
       "      <td>137955172352</td>\n",
       "      <td>67959193600</td>\n",
       "      <td>534009184</td>\n",
       "      <td>512223083</td>\n",
       "      <td>473234168</td>\n",
       "    </tr>\n",
       "    <tr>\n",
       "      <th>11</th>\n",
       "      <td>2024/04/23</td>\n",
       "      <td>token_transfer</td>\n",
       "      <td>207089524736</td>\n",
       "      <td>138932174848</td>\n",
       "      <td>68118921216</td>\n",
       "      <td>521972590</td>\n",
       "      <td>519515631</td>\n",
       "      <td>478462223</td>\n",
       "    </tr>\n",
       "  </tbody>\n",
       "</table>\n",
       "</div>"
      ],
      "text/plain": [
       "          time      table_name    total_size     data_size   index_size  \\\n",
       "0   2024/04/12  token_transfer  201857998848  134660833280  67159916544   \n",
       "1   2024/04/13  token_transfer  202981842944  135774904320  67169378304   \n",
       "2   2024/04/14  token_transfer  203050016768  135836172288  67176259584   \n",
       "3   2024/04/15  token_transfer  203136139264  135836172288  67262382080   \n",
       "4   2024/04/16  token_transfer  204629499904  137166626816  67424927744   \n",
       "5   2024/04/17  token_transfer  204694831104  137227681792  67429187584   \n",
       "6   2024/04/18  token_transfer  204788719616  137227681792  67523076096   \n",
       "7   2024/04/19  token_transfer  204791267328  137227681792  67525623808   \n",
       "8   2024/04/20  token_transfer  204951732224  137227681792  67686088704   \n",
       "9   2024/04/21  token_transfer  205887905792  137898786816  67950977024   \n",
       "10  2024/04/22  token_transfer  205952532480  137955172352  67959193600   \n",
       "11  2024/04/23  token_transfer  207089524736  138932174848  68118921216   \n",
       "\n",
       "    n_live_tup  n_tup_ins  n_tup_del  \n",
       "0    518937915  445621774  422076958  \n",
       "1    515010593  450837332  422076958  \n",
       "2    525680253  458485250  427713524  \n",
       "3    527187080  466129443  433721999  \n",
       "4    519512586  473106564  439256471  \n",
       "5    530172596  479416103  444904315  \n",
       "6    531178366  485363473  450896349  \n",
       "7    530908773  491639508  456863493  \n",
       "8    530647332  498970960  463147112  \n",
       "9    528694608  505392121  468099739  \n",
       "10   534009184  512223083  473234168  \n",
       "11   521972590  519515631  478462223  "
      ]
     },
     "execution_count": 87,
     "metadata": {},
     "output_type": "execute_result"
    }
   ],
   "source": [
    "df_origin"
   ]
  },
  {
   "cell_type": "code",
   "execution_count": 89,
   "metadata": {},
   "outputs": [
    {
     "data": {
      "text/html": [
       "<div>\n",
       "<style scoped>\n",
       "    .dataframe tbody tr th:only-of-type {\n",
       "        vertical-align: middle;\n",
       "    }\n",
       "\n",
       "    .dataframe tbody tr th {\n",
       "        vertical-align: top;\n",
       "    }\n",
       "\n",
       "    .dataframe thead th {\n",
       "        text-align: right;\n",
       "    }\n",
       "</style>\n",
       "<table border=\"1\" class=\"dataframe\">\n",
       "  <thead>\n",
       "    <tr style=\"text-align: right;\">\n",
       "      <th></th>\n",
       "      <th>time</th>\n",
       "      <th>total_size</th>\n",
       "      <th>data_size</th>\n",
       "      <th>index_size</th>\n",
       "      <th>n_live_tup</th>\n",
       "      <th>n_tup_ins</th>\n",
       "      <th>n_tup_del</th>\n",
       "    </tr>\n",
       "  </thead>\n",
       "  <tbody>\n",
       "    <tr>\n",
       "      <th>0</th>\n",
       "      <td>2024/04/12</td>\n",
       "      <td>NaN</td>\n",
       "      <td>NaN</td>\n",
       "      <td>NaN</td>\n",
       "      <td>NaN</td>\n",
       "      <td>NaN</td>\n",
       "      <td>NaN</td>\n",
       "    </tr>\n",
       "    <tr>\n",
       "      <th>1</th>\n",
       "      <td>2024/04/13</td>\n",
       "      <td>100.556750</td>\n",
       "      <td>100.827316</td>\n",
       "      <td>100.014088</td>\n",
       "      <td>99.243200</td>\n",
       "      <td>101.170400</td>\n",
       "      <td>100.000000</td>\n",
       "    </tr>\n",
       "    <tr>\n",
       "      <th>2</th>\n",
       "      <td>2024/04/14</td>\n",
       "      <td>100.033586</td>\n",
       "      <td>100.045125</td>\n",
       "      <td>100.010245</td>\n",
       "      <td>102.071736</td>\n",
       "      <td>101.696381</td>\n",
       "      <td>101.335436</td>\n",
       "    </tr>\n",
       "    <tr>\n",
       "      <th>3</th>\n",
       "      <td>2024/04/15</td>\n",
       "      <td>100.042414</td>\n",
       "      <td>100.000000</td>\n",
       "      <td>100.128204</td>\n",
       "      <td>100.286643</td>\n",
       "      <td>101.667271</td>\n",
       "      <td>101.404790</td>\n",
       "    </tr>\n",
       "    <tr>\n",
       "      <th>4</th>\n",
       "      <td>2024/04/16</td>\n",
       "      <td>100.735153</td>\n",
       "      <td>100.979455</td>\n",
       "      <td>100.241659</td>\n",
       "      <td>98.544256</td>\n",
       "      <td>101.496820</td>\n",
       "      <td>101.276041</td>\n",
       "    </tr>\n",
       "    <tr>\n",
       "      <th>5</th>\n",
       "      <td>2024/04/17</td>\n",
       "      <td>100.031927</td>\n",
       "      <td>100.044512</td>\n",
       "      <td>100.006318</td>\n",
       "      <td>102.051925</td>\n",
       "      <td>101.333640</td>\n",
       "      <td>101.285774</td>\n",
       "    </tr>\n",
       "    <tr>\n",
       "      <th>6</th>\n",
       "      <td>2024/04/18</td>\n",
       "      <td>100.045868</td>\n",
       "      <td>100.000000</td>\n",
       "      <td>100.139240</td>\n",
       "      <td>100.189706</td>\n",
       "      <td>101.240544</td>\n",
       "      <td>101.346814</td>\n",
       "    </tr>\n",
       "    <tr>\n",
       "      <th>7</th>\n",
       "      <td>2024/04/19</td>\n",
       "      <td>100.001244</td>\n",
       "      <td>100.000000</td>\n",
       "      <td>100.003773</td>\n",
       "      <td>99.949246</td>\n",
       "      <td>101.293059</td>\n",
       "      <td>101.323396</td>\n",
       "    </tr>\n",
       "    <tr>\n",
       "      <th>8</th>\n",
       "      <td>2024/04/20</td>\n",
       "      <td>100.078355</td>\n",
       "      <td>100.000000</td>\n",
       "      <td>100.237636</td>\n",
       "      <td>99.950756</td>\n",
       "      <td>101.491225</td>\n",
       "      <td>101.375382</td>\n",
       "    </tr>\n",
       "    <tr>\n",
       "      <th>9</th>\n",
       "      <td>2024/04/21</td>\n",
       "      <td>100.456778</td>\n",
       "      <td>100.489045</td>\n",
       "      <td>100.391348</td>\n",
       "      <td>99.632011</td>\n",
       "      <td>101.286881</td>\n",
       "      <td>101.069342</td>\n",
       "    </tr>\n",
       "    <tr>\n",
       "      <th>10</th>\n",
       "      <td>2024/04/22</td>\n",
       "      <td>100.031389</td>\n",
       "      <td>100.040889</td>\n",
       "      <td>100.012092</td>\n",
       "      <td>101.005226</td>\n",
       "      <td>101.351616</td>\n",
       "      <td>101.096866</td>\n",
       "    </tr>\n",
       "    <tr>\n",
       "      <th>11</th>\n",
       "      <td>2024/04/23</td>\n",
       "      <td>100.552065</td>\n",
       "      <td>100.708203</td>\n",
       "      <td>100.235035</td>\n",
       "      <td>97.745995</td>\n",
       "      <td>101.423705</td>\n",
       "      <td>101.104750</td>\n",
       "    </tr>\n",
       "  </tbody>\n",
       "</table>\n",
       "</div>"
      ],
      "text/plain": [
       "          time  total_size   data_size  index_size  n_live_tup   n_tup_ins  \\\n",
       "0   2024/04/12         NaN         NaN         NaN         NaN         NaN   \n",
       "1   2024/04/13  100.556750  100.827316  100.014088   99.243200  101.170400   \n",
       "2   2024/04/14  100.033586  100.045125  100.010245  102.071736  101.696381   \n",
       "3   2024/04/15  100.042414  100.000000  100.128204  100.286643  101.667271   \n",
       "4   2024/04/16  100.735153  100.979455  100.241659   98.544256  101.496820   \n",
       "5   2024/04/17  100.031927  100.044512  100.006318  102.051925  101.333640   \n",
       "6   2024/04/18  100.045868  100.000000  100.139240  100.189706  101.240544   \n",
       "7   2024/04/19  100.001244  100.000000  100.003773   99.949246  101.293059   \n",
       "8   2024/04/20  100.078355  100.000000  100.237636   99.950756  101.491225   \n",
       "9   2024/04/21  100.456778  100.489045  100.391348   99.632011  101.286881   \n",
       "10  2024/04/22  100.031389  100.040889  100.012092  101.005226  101.351616   \n",
       "11  2024/04/23  100.552065  100.708203  100.235035   97.745995  101.423705   \n",
       "\n",
       "     n_tup_del  \n",
       "0          NaN  \n",
       "1   100.000000  \n",
       "2   101.335436  \n",
       "3   101.404790  \n",
       "4   101.276041  \n",
       "5   101.285774  \n",
       "6   101.346814  \n",
       "7   101.323396  \n",
       "8   101.375382  \n",
       "9   101.069342  \n",
       "10  101.096866  \n",
       "11  101.104750  "
      ]
     },
     "execution_count": 89,
     "metadata": {},
     "output_type": "execute_result"
    }
   ],
   "source": [
    "df_shifted = df_origin[['total_size', 'data_size', 'index_size', 'n_live_tup', 'n_tup_ins', 'n_tup_del']].shift(periods=1)\n",
    "diff_df = df_origin / df_shifted * 100\n",
    "diff_df['time'] = df_origin['time']\n",
    "diff_df[['time', 'total_size', 'data_size', 'index_size', 'n_live_tup', 'n_tup_ins', 'n_tup_del']]"
   ]
  },
  {
   "cell_type": "code",
   "execution_count": 110,
   "metadata": {},
   "outputs": [],
   "source": [
    "def bar_bar(input_df, col1, col2):\n",
    "    fig = go.Figure()\n",
    "    fig.add_trace(go.Bar(x=input_df['time'], y=input_df[col1], marker_color='crimson', name=col1))\n",
    "    fig.add_trace(go.Bar(x=input_df['time'], y=input_df[col2], marker_color='black', name=col2, yaxis='y2'))\n",
    "    fig.update_layout(\n",
    "        legend=dict(orientation='h'),  \n",
    "        barmode='group',\n",
    "        yaxis=dict(\n",
    "            title={'text': col1}, \n",
    "            side='left'\n",
    "        ), \n",
    "        yaxis2=dict(\n",
    "            title={'text': col2},\n",
    "            side='right', \n",
    "            overlaying='y', \n",
    "            tickmode='sync', \n",
    "            range=[0, input_df[col2].max()*1.5]\n",
    "        )\n",
    "    )\n",
    "    return fig\n",
    "\n",
    "def scatters(input_df, cols: list):\n",
    "    fig = go.Figure()\n",
    "    for col in cols:\n",
    "        fig.add_trace(go.Scatter(x=input_df['time'], y=input_df[col], name=col))\n",
    "    fig.update_layout(\n",
    "    # legend=dict(orientation='h'), \n",
    "    yaxis=dict(\n",
    "        title={'text': 'growth percentage (%)'}, \n",
    "        side='left', \n",
    "        )\n",
    "    )\n",
    "        \n",
    "    return fig\n",
    "\n",
    "def bar_and_scatter(input_df, col1, col2):\n",
    "    fig = go.Figure()\n",
    "    fig.add_trace(go.Bar(x=input_df['time'], y=input_df['total_size'], marker_color='crimson', name=col1, base=0))\n",
    "    fig.add_trace(go.Scatter(x=input_df['time'], y=input_df['n_live_tup'], marker_color='black', name=col2, yaxis='y2'))\n",
    "\n",
    "    fig.update_layout(\n",
    "        legend=dict(orientation='h'), \n",
    "        yaxis=dict(\n",
    "            title={'text': col1}, \n",
    "            side='left', \n",
    "        ), \n",
    "        yaxis2=dict(\n",
    "            title={'text': col2},\n",
    "            side='right', \n",
    "            overlaying='y', \n",
    "            tickmode='sync', \n",
    "            range=[abs(input_df[col2].min()) / 2, input_df[col2].max()]\n",
    "        )\n",
    "    )\n",
    "    return fig\n",
    "\n",
    "\n",
    "\n",
    "def bar_bar_and_scatter(input_df, col11, col12, col2):\n",
    "    fig = go.Figure()\n",
    "    base1 = input_df[col12].min() / 2\n",
    "    fig.add_trace(go.Bar(x=input_df['time'], y=input_df[col11], marker_color='crimson', name=col11))\n",
    "    fig.add_trace(go.Bar(x=input_df['time'], y=input_df[col12], marker_color='turquoise', name=col12))\n",
    "    fig.add_trace(go.Scatter(x=input_df['time'], y=input_df[col2], marker_color='black', name=col2, yaxis='y2'))\n",
    "\n",
    "    fig.update_layout(\n",
    "        legend=dict(orientation='h'), \n",
    "        yaxis=dict(\n",
    "            title={'text': 'size'}, \n",
    "            side='left', \n",
    "            range=[0, input_df[col11].max()*1.1]\n",
    "        ), \n",
    "        yaxis2=dict(\n",
    "            title={'text': col2},\n",
    "            side='right', \n",
    "            overlaying='y', \n",
    "            tickmode='sync', \n",
    "            range=[0, input_df[col2].max()*1.1]\n",
    "        )\n",
    "    )\n",
    "    return fig"
   ]
  },
  {
   "cell_type": "code",
   "execution_count": 111,
   "metadata": {},
   "outputs": [
    {
     "ename": "ValueError",
     "evalue": "Mime type rendering requires nbformat>=4.2.0 but it is not installed",
     "output_type": "error",
     "traceback": [
      "\u001b[0;31m---------------------------------------------------------------------------\u001b[0m",
      "\u001b[0;31mValueError\u001b[0m                                Traceback (most recent call last)",
      "File \u001b[0;32m~/Tovchain/PythonDatabase/venv/lib64/python3.10/site-packages/IPython/core/formatters.py:925\u001b[0m, in \u001b[0;36mIPythonDisplayFormatter.__call__\u001b[0;34m(self, obj)\u001b[0m\n\u001b[1;32m    923\u001b[0m method \u001b[38;5;241m=\u001b[39m get_real_method(obj, \u001b[38;5;28mself\u001b[39m\u001b[38;5;241m.\u001b[39mprint_method)\n\u001b[1;32m    924\u001b[0m \u001b[38;5;28;01mif\u001b[39;00m method \u001b[38;5;129;01mis\u001b[39;00m \u001b[38;5;129;01mnot\u001b[39;00m \u001b[38;5;28;01mNone\u001b[39;00m:\n\u001b[0;32m--> 925\u001b[0m     \u001b[43mmethod\u001b[49m\u001b[43m(\u001b[49m\u001b[43m)\u001b[49m\n\u001b[1;32m    926\u001b[0m     \u001b[38;5;28;01mreturn\u001b[39;00m \u001b[38;5;28;01mTrue\u001b[39;00m\n",
      "File \u001b[0;32m~/Tovchain/PythonDatabase/venv/lib64/python3.10/site-packages/plotly/basedatatypes.py:832\u001b[0m, in \u001b[0;36mBaseFigure._ipython_display_\u001b[0;34m(self)\u001b[0m\n\u001b[1;32m    829\u001b[0m \u001b[38;5;28;01mimport\u001b[39;00m \u001b[38;5;21;01mplotly\u001b[39;00m\u001b[38;5;21;01m.\u001b[39;00m\u001b[38;5;21;01mio\u001b[39;00m \u001b[38;5;28;01mas\u001b[39;00m \u001b[38;5;21;01mpio\u001b[39;00m\n\u001b[1;32m    831\u001b[0m \u001b[38;5;28;01mif\u001b[39;00m pio\u001b[38;5;241m.\u001b[39mrenderers\u001b[38;5;241m.\u001b[39mrender_on_display \u001b[38;5;129;01mand\u001b[39;00m pio\u001b[38;5;241m.\u001b[39mrenderers\u001b[38;5;241m.\u001b[39mdefault:\n\u001b[0;32m--> 832\u001b[0m     \u001b[43mpio\u001b[49m\u001b[38;5;241;43m.\u001b[39;49m\u001b[43mshow\u001b[49m\u001b[43m(\u001b[49m\u001b[38;5;28;43mself\u001b[39;49m\u001b[43m)\u001b[49m\n\u001b[1;32m    833\u001b[0m \u001b[38;5;28;01melse\u001b[39;00m:\n\u001b[1;32m    834\u001b[0m     \u001b[38;5;28mprint\u001b[39m(\u001b[38;5;28mrepr\u001b[39m(\u001b[38;5;28mself\u001b[39m))\n",
      "File \u001b[0;32m~/Tovchain/PythonDatabase/venv/lib64/python3.10/site-packages/plotly/io/_renderers.py:394\u001b[0m, in \u001b[0;36mshow\u001b[0;34m(fig, renderer, validate, **kwargs)\u001b[0m\n\u001b[1;32m    389\u001b[0m         \u001b[38;5;28;01mraise\u001b[39;00m \u001b[38;5;167;01mValueError\u001b[39;00m(\n\u001b[1;32m    390\u001b[0m             \u001b[38;5;124m\"\u001b[39m\u001b[38;5;124mMime type rendering requires ipython but it is not installed\u001b[39m\u001b[38;5;124m\"\u001b[39m\n\u001b[1;32m    391\u001b[0m         )\n\u001b[1;32m    393\u001b[0m     \u001b[38;5;28;01mif\u001b[39;00m \u001b[38;5;129;01mnot\u001b[39;00m nbformat \u001b[38;5;129;01mor\u001b[39;00m Version(nbformat\u001b[38;5;241m.\u001b[39m__version__) \u001b[38;5;241m<\u001b[39m Version(\u001b[38;5;124m\"\u001b[39m\u001b[38;5;124m4.2.0\u001b[39m\u001b[38;5;124m\"\u001b[39m):\n\u001b[0;32m--> 394\u001b[0m         \u001b[38;5;28;01mraise\u001b[39;00m \u001b[38;5;167;01mValueError\u001b[39;00m(\n\u001b[1;32m    395\u001b[0m             \u001b[38;5;124m\"\u001b[39m\u001b[38;5;124mMime type rendering requires nbformat>=4.2.0 but it is not installed\u001b[39m\u001b[38;5;124m\"\u001b[39m\n\u001b[1;32m    396\u001b[0m         )\n\u001b[1;32m    398\u001b[0m     ipython_display\u001b[38;5;241m.\u001b[39mdisplay(bundle, raw\u001b[38;5;241m=\u001b[39m\u001b[38;5;28;01mTrue\u001b[39;00m)\n\u001b[1;32m    400\u001b[0m \u001b[38;5;66;03m# external renderers\u001b[39;00m\n",
      "\u001b[0;31mValueError\u001b[0m: Mime type rendering requires nbformat>=4.2.0 but it is not installed"
     ]
    },
    {
     "data": {
      "application/vnd.plotly.v1+json": {
       "config": {
        "plotlyServerURL": "https://plot.ly"
       },
       "data": [
        {
         "marker": {
          "color": "crimson"
         },
         "name": "data_size",
         "type": "bar",
         "x": [
          "2024/04/12",
          "2024/04/13",
          "2024/04/14",
          "2024/04/15",
          "2024/04/16",
          "2024/04/17",
          "2024/04/18",
          "2024/04/19",
          "2024/04/20",
          "2024/04/21",
          "2024/04/22",
          "2024/04/23"
         ],
         "y": [
          125.41267395019531,
          126.45023345947266,
          126.50729370117188,
          126.50729370117188,
          127.74637603759766,
          127.80323791503906,
          127.80323791503906,
          127.80323791503906,
          127.80323791503906,
          128.42825317382812,
          128.48076629638672,
          129.3906707763672
         ]
        },
        {
         "marker": {
          "color": "turquoise"
         },
         "name": "index_size",
         "type": "bar",
         "x": [
          "2024/04/12",
          "2024/04/13",
          "2024/04/14",
          "2024/04/15",
          "2024/04/16",
          "2024/04/17",
          "2024/04/18",
          "2024/04/19",
          "2024/04/20",
          "2024/04/21",
          "2024/04/22",
          "2024/04/23"
         ],
         "y": [
          62.54754638671875,
          62.556358337402344,
          62.562767028808594,
          62.642974853515625,
          62.79435729980469,
          62.79832458496094,
          62.885765075683594,
          62.88813781738281,
          63.03758239746094,
          63.284278869628906,
          63.29193115234375,
          63.44068908691406
         ]
        },
        {
         "marker": {
          "color": "black"
         },
         "name": "n_live_tup",
         "type": "scatter",
         "x": [
          "2024/04/12",
          "2024/04/13",
          "2024/04/14",
          "2024/04/15",
          "2024/04/16",
          "2024/04/17",
          "2024/04/18",
          "2024/04/19",
          "2024/04/20",
          "2024/04/21",
          "2024/04/22",
          "2024/04/23"
         ],
         "y": [
          518937915,
          515010593,
          525680253,
          527187080,
          519512586,
          530172596,
          531178366,
          530908773,
          530647332,
          528694608,
          534009184,
          521972590
         ],
         "yaxis": "y2"
        }
       ],
       "layout": {
        "legend": {
         "orientation": "h"
        },
        "template": {
         "data": {
          "bar": [
           {
            "error_x": {
             "color": "#2a3f5f"
            },
            "error_y": {
             "color": "#2a3f5f"
            },
            "marker": {
             "line": {
              "color": "#E5ECF6",
              "width": 0.5
             },
             "pattern": {
              "fillmode": "overlay",
              "size": 10,
              "solidity": 0.2
             }
            },
            "type": "bar"
           }
          ],
          "barpolar": [
           {
            "marker": {
             "line": {
              "color": "#E5ECF6",
              "width": 0.5
             },
             "pattern": {
              "fillmode": "overlay",
              "size": 10,
              "solidity": 0.2
             }
            },
            "type": "barpolar"
           }
          ],
          "carpet": [
           {
            "aaxis": {
             "endlinecolor": "#2a3f5f",
             "gridcolor": "white",
             "linecolor": "white",
             "minorgridcolor": "white",
             "startlinecolor": "#2a3f5f"
            },
            "baxis": {
             "endlinecolor": "#2a3f5f",
             "gridcolor": "white",
             "linecolor": "white",
             "minorgridcolor": "white",
             "startlinecolor": "#2a3f5f"
            },
            "type": "carpet"
           }
          ],
          "choropleth": [
           {
            "colorbar": {
             "outlinewidth": 0,
             "ticks": ""
            },
            "type": "choropleth"
           }
          ],
          "contour": [
           {
            "colorbar": {
             "outlinewidth": 0,
             "ticks": ""
            },
            "colorscale": [
             [
              0,
              "#0d0887"
             ],
             [
              0.1111111111111111,
              "#46039f"
             ],
             [
              0.2222222222222222,
              "#7201a8"
             ],
             [
              0.3333333333333333,
              "#9c179e"
             ],
             [
              0.4444444444444444,
              "#bd3786"
             ],
             [
              0.5555555555555556,
              "#d8576b"
             ],
             [
              0.6666666666666666,
              "#ed7953"
             ],
             [
              0.7777777777777778,
              "#fb9f3a"
             ],
             [
              0.8888888888888888,
              "#fdca26"
             ],
             [
              1,
              "#f0f921"
             ]
            ],
            "type": "contour"
           }
          ],
          "contourcarpet": [
           {
            "colorbar": {
             "outlinewidth": 0,
             "ticks": ""
            },
            "type": "contourcarpet"
           }
          ],
          "heatmap": [
           {
            "colorbar": {
             "outlinewidth": 0,
             "ticks": ""
            },
            "colorscale": [
             [
              0,
              "#0d0887"
             ],
             [
              0.1111111111111111,
              "#46039f"
             ],
             [
              0.2222222222222222,
              "#7201a8"
             ],
             [
              0.3333333333333333,
              "#9c179e"
             ],
             [
              0.4444444444444444,
              "#bd3786"
             ],
             [
              0.5555555555555556,
              "#d8576b"
             ],
             [
              0.6666666666666666,
              "#ed7953"
             ],
             [
              0.7777777777777778,
              "#fb9f3a"
             ],
             [
              0.8888888888888888,
              "#fdca26"
             ],
             [
              1,
              "#f0f921"
             ]
            ],
            "type": "heatmap"
           }
          ],
          "heatmapgl": [
           {
            "colorbar": {
             "outlinewidth": 0,
             "ticks": ""
            },
            "colorscale": [
             [
              0,
              "#0d0887"
             ],
             [
              0.1111111111111111,
              "#46039f"
             ],
             [
              0.2222222222222222,
              "#7201a8"
             ],
             [
              0.3333333333333333,
              "#9c179e"
             ],
             [
              0.4444444444444444,
              "#bd3786"
             ],
             [
              0.5555555555555556,
              "#d8576b"
             ],
             [
              0.6666666666666666,
              "#ed7953"
             ],
             [
              0.7777777777777778,
              "#fb9f3a"
             ],
             [
              0.8888888888888888,
              "#fdca26"
             ],
             [
              1,
              "#f0f921"
             ]
            ],
            "type": "heatmapgl"
           }
          ],
          "histogram": [
           {
            "marker": {
             "pattern": {
              "fillmode": "overlay",
              "size": 10,
              "solidity": 0.2
             }
            },
            "type": "histogram"
           }
          ],
          "histogram2d": [
           {
            "colorbar": {
             "outlinewidth": 0,
             "ticks": ""
            },
            "colorscale": [
             [
              0,
              "#0d0887"
             ],
             [
              0.1111111111111111,
              "#46039f"
             ],
             [
              0.2222222222222222,
              "#7201a8"
             ],
             [
              0.3333333333333333,
              "#9c179e"
             ],
             [
              0.4444444444444444,
              "#bd3786"
             ],
             [
              0.5555555555555556,
              "#d8576b"
             ],
             [
              0.6666666666666666,
              "#ed7953"
             ],
             [
              0.7777777777777778,
              "#fb9f3a"
             ],
             [
              0.8888888888888888,
              "#fdca26"
             ],
             [
              1,
              "#f0f921"
             ]
            ],
            "type": "histogram2d"
           }
          ],
          "histogram2dcontour": [
           {
            "colorbar": {
             "outlinewidth": 0,
             "ticks": ""
            },
            "colorscale": [
             [
              0,
              "#0d0887"
             ],
             [
              0.1111111111111111,
              "#46039f"
             ],
             [
              0.2222222222222222,
              "#7201a8"
             ],
             [
              0.3333333333333333,
              "#9c179e"
             ],
             [
              0.4444444444444444,
              "#bd3786"
             ],
             [
              0.5555555555555556,
              "#d8576b"
             ],
             [
              0.6666666666666666,
              "#ed7953"
             ],
             [
              0.7777777777777778,
              "#fb9f3a"
             ],
             [
              0.8888888888888888,
              "#fdca26"
             ],
             [
              1,
              "#f0f921"
             ]
            ],
            "type": "histogram2dcontour"
           }
          ],
          "mesh3d": [
           {
            "colorbar": {
             "outlinewidth": 0,
             "ticks": ""
            },
            "type": "mesh3d"
           }
          ],
          "parcoords": [
           {
            "line": {
             "colorbar": {
              "outlinewidth": 0,
              "ticks": ""
             }
            },
            "type": "parcoords"
           }
          ],
          "pie": [
           {
            "automargin": true,
            "type": "pie"
           }
          ],
          "scatter": [
           {
            "fillpattern": {
             "fillmode": "overlay",
             "size": 10,
             "solidity": 0.2
            },
            "type": "scatter"
           }
          ],
          "scatter3d": [
           {
            "line": {
             "colorbar": {
              "outlinewidth": 0,
              "ticks": ""
             }
            },
            "marker": {
             "colorbar": {
              "outlinewidth": 0,
              "ticks": ""
             }
            },
            "type": "scatter3d"
           }
          ],
          "scattercarpet": [
           {
            "marker": {
             "colorbar": {
              "outlinewidth": 0,
              "ticks": ""
             }
            },
            "type": "scattercarpet"
           }
          ],
          "scattergeo": [
           {
            "marker": {
             "colorbar": {
              "outlinewidth": 0,
              "ticks": ""
             }
            },
            "type": "scattergeo"
           }
          ],
          "scattergl": [
           {
            "marker": {
             "colorbar": {
              "outlinewidth": 0,
              "ticks": ""
             }
            },
            "type": "scattergl"
           }
          ],
          "scattermapbox": [
           {
            "marker": {
             "colorbar": {
              "outlinewidth": 0,
              "ticks": ""
             }
            },
            "type": "scattermapbox"
           }
          ],
          "scatterpolar": [
           {
            "marker": {
             "colorbar": {
              "outlinewidth": 0,
              "ticks": ""
             }
            },
            "type": "scatterpolar"
           }
          ],
          "scatterpolargl": [
           {
            "marker": {
             "colorbar": {
              "outlinewidth": 0,
              "ticks": ""
             }
            },
            "type": "scatterpolargl"
           }
          ],
          "scatterternary": [
           {
            "marker": {
             "colorbar": {
              "outlinewidth": 0,
              "ticks": ""
             }
            },
            "type": "scatterternary"
           }
          ],
          "surface": [
           {
            "colorbar": {
             "outlinewidth": 0,
             "ticks": ""
            },
            "colorscale": [
             [
              0,
              "#0d0887"
             ],
             [
              0.1111111111111111,
              "#46039f"
             ],
             [
              0.2222222222222222,
              "#7201a8"
             ],
             [
              0.3333333333333333,
              "#9c179e"
             ],
             [
              0.4444444444444444,
              "#bd3786"
             ],
             [
              0.5555555555555556,
              "#d8576b"
             ],
             [
              0.6666666666666666,
              "#ed7953"
             ],
             [
              0.7777777777777778,
              "#fb9f3a"
             ],
             [
              0.8888888888888888,
              "#fdca26"
             ],
             [
              1,
              "#f0f921"
             ]
            ],
            "type": "surface"
           }
          ],
          "table": [
           {
            "cells": {
             "fill": {
              "color": "#EBF0F8"
             },
             "line": {
              "color": "white"
             }
            },
            "header": {
             "fill": {
              "color": "#C8D4E3"
             },
             "line": {
              "color": "white"
             }
            },
            "type": "table"
           }
          ]
         },
         "layout": {
          "annotationdefaults": {
           "arrowcolor": "#2a3f5f",
           "arrowhead": 0,
           "arrowwidth": 1
          },
          "autotypenumbers": "strict",
          "coloraxis": {
           "colorbar": {
            "outlinewidth": 0,
            "ticks": ""
           }
          },
          "colorscale": {
           "diverging": [
            [
             0,
             "#8e0152"
            ],
            [
             0.1,
             "#c51b7d"
            ],
            [
             0.2,
             "#de77ae"
            ],
            [
             0.3,
             "#f1b6da"
            ],
            [
             0.4,
             "#fde0ef"
            ],
            [
             0.5,
             "#f7f7f7"
            ],
            [
             0.6,
             "#e6f5d0"
            ],
            [
             0.7,
             "#b8e186"
            ],
            [
             0.8,
             "#7fbc41"
            ],
            [
             0.9,
             "#4d9221"
            ],
            [
             1,
             "#276419"
            ]
           ],
           "sequential": [
            [
             0,
             "#0d0887"
            ],
            [
             0.1111111111111111,
             "#46039f"
            ],
            [
             0.2222222222222222,
             "#7201a8"
            ],
            [
             0.3333333333333333,
             "#9c179e"
            ],
            [
             0.4444444444444444,
             "#bd3786"
            ],
            [
             0.5555555555555556,
             "#d8576b"
            ],
            [
             0.6666666666666666,
             "#ed7953"
            ],
            [
             0.7777777777777778,
             "#fb9f3a"
            ],
            [
             0.8888888888888888,
             "#fdca26"
            ],
            [
             1,
             "#f0f921"
            ]
           ],
           "sequentialminus": [
            [
             0,
             "#0d0887"
            ],
            [
             0.1111111111111111,
             "#46039f"
            ],
            [
             0.2222222222222222,
             "#7201a8"
            ],
            [
             0.3333333333333333,
             "#9c179e"
            ],
            [
             0.4444444444444444,
             "#bd3786"
            ],
            [
             0.5555555555555556,
             "#d8576b"
            ],
            [
             0.6666666666666666,
             "#ed7953"
            ],
            [
             0.7777777777777778,
             "#fb9f3a"
            ],
            [
             0.8888888888888888,
             "#fdca26"
            ],
            [
             1,
             "#f0f921"
            ]
           ]
          },
          "colorway": [
           "#636efa",
           "#EF553B",
           "#00cc96",
           "#ab63fa",
           "#FFA15A",
           "#19d3f3",
           "#FF6692",
           "#B6E880",
           "#FF97FF",
           "#FECB52"
          ],
          "font": {
           "color": "#2a3f5f"
          },
          "geo": {
           "bgcolor": "white",
           "lakecolor": "white",
           "landcolor": "#E5ECF6",
           "showlakes": true,
           "showland": true,
           "subunitcolor": "white"
          },
          "hoverlabel": {
           "align": "left"
          },
          "hovermode": "closest",
          "mapbox": {
           "style": "light"
          },
          "paper_bgcolor": "white",
          "plot_bgcolor": "#E5ECF6",
          "polar": {
           "angularaxis": {
            "gridcolor": "white",
            "linecolor": "white",
            "ticks": ""
           },
           "bgcolor": "#E5ECF6",
           "radialaxis": {
            "gridcolor": "white",
            "linecolor": "white",
            "ticks": ""
           }
          },
          "scene": {
           "xaxis": {
            "backgroundcolor": "#E5ECF6",
            "gridcolor": "white",
            "gridwidth": 2,
            "linecolor": "white",
            "showbackground": true,
            "ticks": "",
            "zerolinecolor": "white"
           },
           "yaxis": {
            "backgroundcolor": "#E5ECF6",
            "gridcolor": "white",
            "gridwidth": 2,
            "linecolor": "white",
            "showbackground": true,
            "ticks": "",
            "zerolinecolor": "white"
           },
           "zaxis": {
            "backgroundcolor": "#E5ECF6",
            "gridcolor": "white",
            "gridwidth": 2,
            "linecolor": "white",
            "showbackground": true,
            "ticks": "",
            "zerolinecolor": "white"
           }
          },
          "shapedefaults": {
           "line": {
            "color": "#2a3f5f"
           }
          },
          "ternary": {
           "aaxis": {
            "gridcolor": "white",
            "linecolor": "white",
            "ticks": ""
           },
           "baxis": {
            "gridcolor": "white",
            "linecolor": "white",
            "ticks": ""
           },
           "bgcolor": "#E5ECF6",
           "caxis": {
            "gridcolor": "white",
            "linecolor": "white",
            "ticks": ""
           }
          },
          "title": {
           "x": 0.05
          },
          "xaxis": {
           "automargin": true,
           "gridcolor": "white",
           "linecolor": "white",
           "ticks": "",
           "title": {
            "standoff": 15
           },
           "zerolinecolor": "white",
           "zerolinewidth": 2
          },
          "yaxis": {
           "automargin": true,
           "gridcolor": "white",
           "linecolor": "white",
           "ticks": "",
           "title": {
            "standoff": 15
           },
           "zerolinecolor": "white",
           "zerolinewidth": 2
          }
         }
        },
        "yaxis": {
         "range": [
          0,
          142.32973785400392
         ],
         "side": "left",
         "title": {
          "text": "size"
         }
        },
        "yaxis2": {
         "overlaying": "y",
         "range": [
          0,
          587410102.4000001
         ],
         "side": "right",
         "tickmode": "sync",
         "title": {
          "text": "n_live_tup"
         }
        }
       }
      },
      "text/html": [
       "<div>                        <script type=\"text/javascript\">window.PlotlyConfig = {MathJaxConfig: 'local'};</script>\n",
       "        <script charset=\"utf-8\" src=\"https://cdn.plot.ly/plotly-2.31.1.min.js\"></script>                <div id=\"2ba35663-2c50-49a3-ba99-cf4175cd981b\" class=\"plotly-graph-div\" style=\"height:100%; width:100%;\"></div>            <script type=\"text/javascript\">                                    window.PLOTLYENV=window.PLOTLYENV || {};                                    if (document.getElementById(\"2ba35663-2c50-49a3-ba99-cf4175cd981b\")) {                    Plotly.newPlot(                        \"2ba35663-2c50-49a3-ba99-cf4175cd981b\",                        [{\"marker\":{\"color\":\"crimson\"},\"name\":\"data_size\",\"x\":[\"2024\\u002f04\\u002f12\",\"2024\\u002f04\\u002f13\",\"2024\\u002f04\\u002f14\",\"2024\\u002f04\\u002f15\",\"2024\\u002f04\\u002f16\",\"2024\\u002f04\\u002f17\",\"2024\\u002f04\\u002f18\",\"2024\\u002f04\\u002f19\",\"2024\\u002f04\\u002f20\",\"2024\\u002f04\\u002f21\",\"2024\\u002f04\\u002f22\",\"2024\\u002f04\\u002f23\"],\"y\":[125.41267395019531,126.45023345947266,126.50729370117188,126.50729370117188,127.74637603759766,127.80323791503906,127.80323791503906,127.80323791503906,127.80323791503906,128.42825317382812,128.48076629638672,129.3906707763672],\"type\":\"bar\"},{\"marker\":{\"color\":\"turquoise\"},\"name\":\"index_size\",\"x\":[\"2024\\u002f04\\u002f12\",\"2024\\u002f04\\u002f13\",\"2024\\u002f04\\u002f14\",\"2024\\u002f04\\u002f15\",\"2024\\u002f04\\u002f16\",\"2024\\u002f04\\u002f17\",\"2024\\u002f04\\u002f18\",\"2024\\u002f04\\u002f19\",\"2024\\u002f04\\u002f20\",\"2024\\u002f04\\u002f21\",\"2024\\u002f04\\u002f22\",\"2024\\u002f04\\u002f23\"],\"y\":[62.54754638671875,62.556358337402344,62.562767028808594,62.642974853515625,62.79435729980469,62.79832458496094,62.885765075683594,62.88813781738281,63.03758239746094,63.284278869628906,63.29193115234375,63.44068908691406],\"type\":\"bar\"},{\"marker\":{\"color\":\"black\"},\"name\":\"n_live_tup\",\"x\":[\"2024\\u002f04\\u002f12\",\"2024\\u002f04\\u002f13\",\"2024\\u002f04\\u002f14\",\"2024\\u002f04\\u002f15\",\"2024\\u002f04\\u002f16\",\"2024\\u002f04\\u002f17\",\"2024\\u002f04\\u002f18\",\"2024\\u002f04\\u002f19\",\"2024\\u002f04\\u002f20\",\"2024\\u002f04\\u002f21\",\"2024\\u002f04\\u002f22\",\"2024\\u002f04\\u002f23\"],\"y\":[518937915,515010593,525680253,527187080,519512586,530172596,531178366,530908773,530647332,528694608,534009184,521972590],\"yaxis\":\"y2\",\"type\":\"scatter\"}],                        {\"template\":{\"data\":{\"histogram2dcontour\":[{\"type\":\"histogram2dcontour\",\"colorbar\":{\"outlinewidth\":0,\"ticks\":\"\"},\"colorscale\":[[0.0,\"#0d0887\"],[0.1111111111111111,\"#46039f\"],[0.2222222222222222,\"#7201a8\"],[0.3333333333333333,\"#9c179e\"],[0.4444444444444444,\"#bd3786\"],[0.5555555555555556,\"#d8576b\"],[0.6666666666666666,\"#ed7953\"],[0.7777777777777778,\"#fb9f3a\"],[0.8888888888888888,\"#fdca26\"],[1.0,\"#f0f921\"]]}],\"choropleth\":[{\"type\":\"choropleth\",\"colorbar\":{\"outlinewidth\":0,\"ticks\":\"\"}}],\"histogram2d\":[{\"type\":\"histogram2d\",\"colorbar\":{\"outlinewidth\":0,\"ticks\":\"\"},\"colorscale\":[[0.0,\"#0d0887\"],[0.1111111111111111,\"#46039f\"],[0.2222222222222222,\"#7201a8\"],[0.3333333333333333,\"#9c179e\"],[0.4444444444444444,\"#bd3786\"],[0.5555555555555556,\"#d8576b\"],[0.6666666666666666,\"#ed7953\"],[0.7777777777777778,\"#fb9f3a\"],[0.8888888888888888,\"#fdca26\"],[1.0,\"#f0f921\"]]}],\"heatmap\":[{\"type\":\"heatmap\",\"colorbar\":{\"outlinewidth\":0,\"ticks\":\"\"},\"colorscale\":[[0.0,\"#0d0887\"],[0.1111111111111111,\"#46039f\"],[0.2222222222222222,\"#7201a8\"],[0.3333333333333333,\"#9c179e\"],[0.4444444444444444,\"#bd3786\"],[0.5555555555555556,\"#d8576b\"],[0.6666666666666666,\"#ed7953\"],[0.7777777777777778,\"#fb9f3a\"],[0.8888888888888888,\"#fdca26\"],[1.0,\"#f0f921\"]]}],\"heatmapgl\":[{\"type\":\"heatmapgl\",\"colorbar\":{\"outlinewidth\":0,\"ticks\":\"\"},\"colorscale\":[[0.0,\"#0d0887\"],[0.1111111111111111,\"#46039f\"],[0.2222222222222222,\"#7201a8\"],[0.3333333333333333,\"#9c179e\"],[0.4444444444444444,\"#bd3786\"],[0.5555555555555556,\"#d8576b\"],[0.6666666666666666,\"#ed7953\"],[0.7777777777777778,\"#fb9f3a\"],[0.8888888888888888,\"#fdca26\"],[1.0,\"#f0f921\"]]}],\"contourcarpet\":[{\"type\":\"contourcarpet\",\"colorbar\":{\"outlinewidth\":0,\"ticks\":\"\"}}],\"contour\":[{\"type\":\"contour\",\"colorbar\":{\"outlinewidth\":0,\"ticks\":\"\"},\"colorscale\":[[0.0,\"#0d0887\"],[0.1111111111111111,\"#46039f\"],[0.2222222222222222,\"#7201a8\"],[0.3333333333333333,\"#9c179e\"],[0.4444444444444444,\"#bd3786\"],[0.5555555555555556,\"#d8576b\"],[0.6666666666666666,\"#ed7953\"],[0.7777777777777778,\"#fb9f3a\"],[0.8888888888888888,\"#fdca26\"],[1.0,\"#f0f921\"]]}],\"surface\":[{\"type\":\"surface\",\"colorbar\":{\"outlinewidth\":0,\"ticks\":\"\"},\"colorscale\":[[0.0,\"#0d0887\"],[0.1111111111111111,\"#46039f\"],[0.2222222222222222,\"#7201a8\"],[0.3333333333333333,\"#9c179e\"],[0.4444444444444444,\"#bd3786\"],[0.5555555555555556,\"#d8576b\"],[0.6666666666666666,\"#ed7953\"],[0.7777777777777778,\"#fb9f3a\"],[0.8888888888888888,\"#fdca26\"],[1.0,\"#f0f921\"]]}],\"mesh3d\":[{\"type\":\"mesh3d\",\"colorbar\":{\"outlinewidth\":0,\"ticks\":\"\"}}],\"scatter\":[{\"fillpattern\":{\"fillmode\":\"overlay\",\"size\":10,\"solidity\":0.2},\"type\":\"scatter\"}],\"parcoords\":[{\"type\":\"parcoords\",\"line\":{\"colorbar\":{\"outlinewidth\":0,\"ticks\":\"\"}}}],\"scatterpolargl\":[{\"type\":\"scatterpolargl\",\"marker\":{\"colorbar\":{\"outlinewidth\":0,\"ticks\":\"\"}}}],\"bar\":[{\"error_x\":{\"color\":\"#2a3f5f\"},\"error_y\":{\"color\":\"#2a3f5f\"},\"marker\":{\"line\":{\"color\":\"#E5ECF6\",\"width\":0.5},\"pattern\":{\"fillmode\":\"overlay\",\"size\":10,\"solidity\":0.2}},\"type\":\"bar\"}],\"scattergeo\":[{\"type\":\"scattergeo\",\"marker\":{\"colorbar\":{\"outlinewidth\":0,\"ticks\":\"\"}}}],\"scatterpolar\":[{\"type\":\"scatterpolar\",\"marker\":{\"colorbar\":{\"outlinewidth\":0,\"ticks\":\"\"}}}],\"histogram\":[{\"marker\":{\"pattern\":{\"fillmode\":\"overlay\",\"size\":10,\"solidity\":0.2}},\"type\":\"histogram\"}],\"scattergl\":[{\"type\":\"scattergl\",\"marker\":{\"colorbar\":{\"outlinewidth\":0,\"ticks\":\"\"}}}],\"scatter3d\":[{\"type\":\"scatter3d\",\"line\":{\"colorbar\":{\"outlinewidth\":0,\"ticks\":\"\"}},\"marker\":{\"colorbar\":{\"outlinewidth\":0,\"ticks\":\"\"}}}],\"scattermapbox\":[{\"type\":\"scattermapbox\",\"marker\":{\"colorbar\":{\"outlinewidth\":0,\"ticks\":\"\"}}}],\"scatterternary\":[{\"type\":\"scatterternary\",\"marker\":{\"colorbar\":{\"outlinewidth\":0,\"ticks\":\"\"}}}],\"scattercarpet\":[{\"type\":\"scattercarpet\",\"marker\":{\"colorbar\":{\"outlinewidth\":0,\"ticks\":\"\"}}}],\"carpet\":[{\"aaxis\":{\"endlinecolor\":\"#2a3f5f\",\"gridcolor\":\"white\",\"linecolor\":\"white\",\"minorgridcolor\":\"white\",\"startlinecolor\":\"#2a3f5f\"},\"baxis\":{\"endlinecolor\":\"#2a3f5f\",\"gridcolor\":\"white\",\"linecolor\":\"white\",\"minorgridcolor\":\"white\",\"startlinecolor\":\"#2a3f5f\"},\"type\":\"carpet\"}],\"table\":[{\"cells\":{\"fill\":{\"color\":\"#EBF0F8\"},\"line\":{\"color\":\"white\"}},\"header\":{\"fill\":{\"color\":\"#C8D4E3\"},\"line\":{\"color\":\"white\"}},\"type\":\"table\"}],\"barpolar\":[{\"marker\":{\"line\":{\"color\":\"#E5ECF6\",\"width\":0.5},\"pattern\":{\"fillmode\":\"overlay\",\"size\":10,\"solidity\":0.2}},\"type\":\"barpolar\"}],\"pie\":[{\"automargin\":true,\"type\":\"pie\"}]},\"layout\":{\"autotypenumbers\":\"strict\",\"colorway\":[\"#636efa\",\"#EF553B\",\"#00cc96\",\"#ab63fa\",\"#FFA15A\",\"#19d3f3\",\"#FF6692\",\"#B6E880\",\"#FF97FF\",\"#FECB52\"],\"font\":{\"color\":\"#2a3f5f\"},\"hovermode\":\"closest\",\"hoverlabel\":{\"align\":\"left\"},\"paper_bgcolor\":\"white\",\"plot_bgcolor\":\"#E5ECF6\",\"polar\":{\"bgcolor\":\"#E5ECF6\",\"angularaxis\":{\"gridcolor\":\"white\",\"linecolor\":\"white\",\"ticks\":\"\"},\"radialaxis\":{\"gridcolor\":\"white\",\"linecolor\":\"white\",\"ticks\":\"\"}},\"ternary\":{\"bgcolor\":\"#E5ECF6\",\"aaxis\":{\"gridcolor\":\"white\",\"linecolor\":\"white\",\"ticks\":\"\"},\"baxis\":{\"gridcolor\":\"white\",\"linecolor\":\"white\",\"ticks\":\"\"},\"caxis\":{\"gridcolor\":\"white\",\"linecolor\":\"white\",\"ticks\":\"\"}},\"coloraxis\":{\"colorbar\":{\"outlinewidth\":0,\"ticks\":\"\"}},\"colorscale\":{\"sequential\":[[0.0,\"#0d0887\"],[0.1111111111111111,\"#46039f\"],[0.2222222222222222,\"#7201a8\"],[0.3333333333333333,\"#9c179e\"],[0.4444444444444444,\"#bd3786\"],[0.5555555555555556,\"#d8576b\"],[0.6666666666666666,\"#ed7953\"],[0.7777777777777778,\"#fb9f3a\"],[0.8888888888888888,\"#fdca26\"],[1.0,\"#f0f921\"]],\"sequentialminus\":[[0.0,\"#0d0887\"],[0.1111111111111111,\"#46039f\"],[0.2222222222222222,\"#7201a8\"],[0.3333333333333333,\"#9c179e\"],[0.4444444444444444,\"#bd3786\"],[0.5555555555555556,\"#d8576b\"],[0.6666666666666666,\"#ed7953\"],[0.7777777777777778,\"#fb9f3a\"],[0.8888888888888888,\"#fdca26\"],[1.0,\"#f0f921\"]],\"diverging\":[[0,\"#8e0152\"],[0.1,\"#c51b7d\"],[0.2,\"#de77ae\"],[0.3,\"#f1b6da\"],[0.4,\"#fde0ef\"],[0.5,\"#f7f7f7\"],[0.6,\"#e6f5d0\"],[0.7,\"#b8e186\"],[0.8,\"#7fbc41\"],[0.9,\"#4d9221\"],[1,\"#276419\"]]},\"xaxis\":{\"gridcolor\":\"white\",\"linecolor\":\"white\",\"ticks\":\"\",\"title\":{\"standoff\":15},\"zerolinecolor\":\"white\",\"automargin\":true,\"zerolinewidth\":2},\"yaxis\":{\"gridcolor\":\"white\",\"linecolor\":\"white\",\"ticks\":\"\",\"title\":{\"standoff\":15},\"zerolinecolor\":\"white\",\"automargin\":true,\"zerolinewidth\":2},\"scene\":{\"xaxis\":{\"backgroundcolor\":\"#E5ECF6\",\"gridcolor\":\"white\",\"linecolor\":\"white\",\"showbackground\":true,\"ticks\":\"\",\"zerolinecolor\":\"white\",\"gridwidth\":2},\"yaxis\":{\"backgroundcolor\":\"#E5ECF6\",\"gridcolor\":\"white\",\"linecolor\":\"white\",\"showbackground\":true,\"ticks\":\"\",\"zerolinecolor\":\"white\",\"gridwidth\":2},\"zaxis\":{\"backgroundcolor\":\"#E5ECF6\",\"gridcolor\":\"white\",\"linecolor\":\"white\",\"showbackground\":true,\"ticks\":\"\",\"zerolinecolor\":\"white\",\"gridwidth\":2}},\"shapedefaults\":{\"line\":{\"color\":\"#2a3f5f\"}},\"annotationdefaults\":{\"arrowcolor\":\"#2a3f5f\",\"arrowhead\":0,\"arrowwidth\":1},\"geo\":{\"bgcolor\":\"white\",\"landcolor\":\"#E5ECF6\",\"subunitcolor\":\"white\",\"showland\":true,\"showlakes\":true,\"lakecolor\":\"white\"},\"title\":{\"x\":0.05},\"mapbox\":{\"style\":\"light\"}}},\"legend\":{\"orientation\":\"h\"},\"yaxis\":{\"title\":{\"text\":\"size\"},\"side\":\"left\",\"range\":[0,142.32973785400392]},\"yaxis2\":{\"title\":{\"text\":\"n_live_tup\"},\"side\":\"right\",\"overlaying\":\"y\",\"tickmode\":\"sync\",\"range\":[0,587410102.4000001]}},                        {\"responsive\": true}                    )                };                            </script>        </div>"
      ],
      "text/plain": [
       "Figure({\n",
       "    'data': [{'marker': {'color': 'crimson'},\n",
       "              'name': 'data_size',\n",
       "              'type': 'bar',\n",
       "              'x': array(['2024/04/12', '2024/04/13', '2024/04/14', '2024/04/15', '2024/04/16',\n",
       "                          '2024/04/17', '2024/04/18', '2024/04/19', '2024/04/20', '2024/04/21',\n",
       "                          '2024/04/22', '2024/04/23'], dtype=object),\n",
       "              'y': array([125.41267395, 126.45023346, 126.5072937 , 126.5072937 , 127.74637604,\n",
       "                          127.80323792, 127.80323792, 127.80323792, 127.80323792, 128.42825317,\n",
       "                          128.4807663 , 129.39067078])},\n",
       "             {'marker': {'color': 'turquoise'},\n",
       "              'name': 'index_size',\n",
       "              'type': 'bar',\n",
       "              'x': array(['2024/04/12', '2024/04/13', '2024/04/14', '2024/04/15', '2024/04/16',\n",
       "                          '2024/04/17', '2024/04/18', '2024/04/19', '2024/04/20', '2024/04/21',\n",
       "                          '2024/04/22', '2024/04/23'], dtype=object),\n",
       "              'y': array([62.54754639, 62.55635834, 62.56276703, 62.64297485, 62.7943573 ,\n",
       "                          62.79832458, 62.88576508, 62.88813782, 63.0375824 , 63.28427887,\n",
       "                          63.29193115, 63.44068909])},\n",
       "             {'marker': {'color': 'black'},\n",
       "              'name': 'n_live_tup',\n",
       "              'type': 'scatter',\n",
       "              'x': array(['2024/04/12', '2024/04/13', '2024/04/14', '2024/04/15', '2024/04/16',\n",
       "                          '2024/04/17', '2024/04/18', '2024/04/19', '2024/04/20', '2024/04/21',\n",
       "                          '2024/04/22', '2024/04/23'], dtype=object),\n",
       "              'y': array([518937915, 515010593, 525680253, 527187080, 519512586, 530172596,\n",
       "                          531178366, 530908773, 530647332, 528694608, 534009184, 521972590]),\n",
       "              'yaxis': 'y2'}],\n",
       "    'layout': {'legend': {'orientation': 'h'},\n",
       "               'template': '...',\n",
       "               'yaxis': {'range': [0, 142.32973785400392], 'side': 'left', 'title': {'text': 'size'}},\n",
       "               'yaxis2': {'overlaying': 'y',\n",
       "                          'range': [0, 587410102.4000001],\n",
       "                          'side': 'right',\n",
       "                          'tickmode': 'sync',\n",
       "                          'title': {'text': 'n_live_tup'}}}\n",
       "})"
      ]
     },
     "execution_count": 111,
     "metadata": {},
     "output_type": "execute_result"
    }
   ],
   "source": [
    "f = bar_bar_and_scatter(pretty_size(df_origin), 'data_size', 'index_size', 'n_live_tup')\n",
    "f"
   ]
  },
  {
   "cell_type": "code",
   "execution_count": 105,
   "metadata": {},
   "outputs": [
    {
     "ename": "ValueError",
     "evalue": "Mime type rendering requires nbformat>=4.2.0 but it is not installed",
     "output_type": "error",
     "traceback": [
      "\u001b[0;31m---------------------------------------------------------------------------\u001b[0m",
      "\u001b[0;31mValueError\u001b[0m                                Traceback (most recent call last)",
      "File \u001b[0;32m~/Tovchain/PythonDatabase/venv/lib64/python3.10/site-packages/IPython/core/formatters.py:925\u001b[0m, in \u001b[0;36mIPythonDisplayFormatter.__call__\u001b[0;34m(self, obj)\u001b[0m\n\u001b[1;32m    923\u001b[0m method \u001b[38;5;241m=\u001b[39m get_real_method(obj, \u001b[38;5;28mself\u001b[39m\u001b[38;5;241m.\u001b[39mprint_method)\n\u001b[1;32m    924\u001b[0m \u001b[38;5;28;01mif\u001b[39;00m method \u001b[38;5;129;01mis\u001b[39;00m \u001b[38;5;129;01mnot\u001b[39;00m \u001b[38;5;28;01mNone\u001b[39;00m:\n\u001b[0;32m--> 925\u001b[0m     \u001b[43mmethod\u001b[49m\u001b[43m(\u001b[49m\u001b[43m)\u001b[49m\n\u001b[1;32m    926\u001b[0m     \u001b[38;5;28;01mreturn\u001b[39;00m \u001b[38;5;28;01mTrue\u001b[39;00m\n",
      "File \u001b[0;32m~/Tovchain/PythonDatabase/venv/lib64/python3.10/site-packages/plotly/basedatatypes.py:832\u001b[0m, in \u001b[0;36mBaseFigure._ipython_display_\u001b[0;34m(self)\u001b[0m\n\u001b[1;32m    829\u001b[0m \u001b[38;5;28;01mimport\u001b[39;00m \u001b[38;5;21;01mplotly\u001b[39;00m\u001b[38;5;21;01m.\u001b[39;00m\u001b[38;5;21;01mio\u001b[39;00m \u001b[38;5;28;01mas\u001b[39;00m \u001b[38;5;21;01mpio\u001b[39;00m\n\u001b[1;32m    831\u001b[0m \u001b[38;5;28;01mif\u001b[39;00m pio\u001b[38;5;241m.\u001b[39mrenderers\u001b[38;5;241m.\u001b[39mrender_on_display \u001b[38;5;129;01mand\u001b[39;00m pio\u001b[38;5;241m.\u001b[39mrenderers\u001b[38;5;241m.\u001b[39mdefault:\n\u001b[0;32m--> 832\u001b[0m     \u001b[43mpio\u001b[49m\u001b[38;5;241;43m.\u001b[39;49m\u001b[43mshow\u001b[49m\u001b[43m(\u001b[49m\u001b[38;5;28;43mself\u001b[39;49m\u001b[43m)\u001b[49m\n\u001b[1;32m    833\u001b[0m \u001b[38;5;28;01melse\u001b[39;00m:\n\u001b[1;32m    834\u001b[0m     \u001b[38;5;28mprint\u001b[39m(\u001b[38;5;28mrepr\u001b[39m(\u001b[38;5;28mself\u001b[39m))\n",
      "File \u001b[0;32m~/Tovchain/PythonDatabase/venv/lib64/python3.10/site-packages/plotly/io/_renderers.py:394\u001b[0m, in \u001b[0;36mshow\u001b[0;34m(fig, renderer, validate, **kwargs)\u001b[0m\n\u001b[1;32m    389\u001b[0m         \u001b[38;5;28;01mraise\u001b[39;00m \u001b[38;5;167;01mValueError\u001b[39;00m(\n\u001b[1;32m    390\u001b[0m             \u001b[38;5;124m\"\u001b[39m\u001b[38;5;124mMime type rendering requires ipython but it is not installed\u001b[39m\u001b[38;5;124m\"\u001b[39m\n\u001b[1;32m    391\u001b[0m         )\n\u001b[1;32m    393\u001b[0m     \u001b[38;5;28;01mif\u001b[39;00m \u001b[38;5;129;01mnot\u001b[39;00m nbformat \u001b[38;5;129;01mor\u001b[39;00m Version(nbformat\u001b[38;5;241m.\u001b[39m__version__) \u001b[38;5;241m<\u001b[39m Version(\u001b[38;5;124m\"\u001b[39m\u001b[38;5;124m4.2.0\u001b[39m\u001b[38;5;124m\"\u001b[39m):\n\u001b[0;32m--> 394\u001b[0m         \u001b[38;5;28;01mraise\u001b[39;00m \u001b[38;5;167;01mValueError\u001b[39;00m(\n\u001b[1;32m    395\u001b[0m             \u001b[38;5;124m\"\u001b[39m\u001b[38;5;124mMime type rendering requires nbformat>=4.2.0 but it is not installed\u001b[39m\u001b[38;5;124m\"\u001b[39m\n\u001b[1;32m    396\u001b[0m         )\n\u001b[1;32m    398\u001b[0m     ipython_display\u001b[38;5;241m.\u001b[39mdisplay(bundle, raw\u001b[38;5;241m=\u001b[39m\u001b[38;5;28;01mTrue\u001b[39;00m)\n\u001b[1;32m    400\u001b[0m \u001b[38;5;66;03m# external renderers\u001b[39;00m\n",
      "\u001b[0;31mValueError\u001b[0m: Mime type rendering requires nbformat>=4.2.0 but it is not installed"
     ]
    },
    {
     "data": {
      "application/vnd.plotly.v1+json": {
       "config": {
        "plotlyServerURL": "https://plot.ly"
       },
       "data": [
        {
         "name": "data_size",
         "type": "scatter",
         "x": [
          "2024/04/12",
          "2024/04/13",
          "2024/04/14",
          "2024/04/15",
          "2024/04/16",
          "2024/04/17",
          "2024/04/18",
          "2024/04/19",
          "2024/04/20",
          "2024/04/21",
          "2024/04/22",
          "2024/04/23"
         ],
         "y": [
          null,
          100.82731631229662,
          100.04512466299045,
          100,
          100.97945525524612,
          100.04451153856972,
          100,
          100,
          100,
          100.48904493265229,
          100.04088907328477,
          100.70820287441424
         ]
        },
        {
         "name": "index_size",
         "type": "scatter",
         "x": [
          "2024/04/12",
          "2024/04/13",
          "2024/04/14",
          "2024/04/15",
          "2024/04/16",
          "2024/04/17",
          "2024/04/18",
          "2024/04/19",
          "2024/04/20",
          "2024/04/21",
          "2024/04/22",
          "2024/04/23"
         ],
         "y": [
          null,
          100.0140884034509,
          100.01024466829045,
          100.12820376801763,
          100.24165909528251,
          100.00631790072683,
          100.13924016492565,
          100.00377309824626,
          100.23763556254772,
          100.39134824462732,
          100.01209191737905,
          100.23503459581957
         ]
        },
        {
         "name": "n_live_tup",
         "type": "scatter",
         "x": [
          "2024/04/12",
          "2024/04/13",
          "2024/04/14",
          "2024/04/15",
          "2024/04/16",
          "2024/04/17",
          "2024/04/18",
          "2024/04/19",
          "2024/04/20",
          "2024/04/21",
          "2024/04/22",
          "2024/04/23"
         ],
         "y": [
          null,
          99.24320002711693,
          102.07173602737916,
          100.28664325726537,
          98.54425605422652,
          102.05192526365472,
          100.1897061461849,
          99.94924623869188,
          99.95075594654,
          99.63201096429898,
          101.00522606426885,
          97.74599494528543
         ]
        }
       ],
       "layout": {
        "template": {
         "data": {
          "bar": [
           {
            "error_x": {
             "color": "#2a3f5f"
            },
            "error_y": {
             "color": "#2a3f5f"
            },
            "marker": {
             "line": {
              "color": "#E5ECF6",
              "width": 0.5
             },
             "pattern": {
              "fillmode": "overlay",
              "size": 10,
              "solidity": 0.2
             }
            },
            "type": "bar"
           }
          ],
          "barpolar": [
           {
            "marker": {
             "line": {
              "color": "#E5ECF6",
              "width": 0.5
             },
             "pattern": {
              "fillmode": "overlay",
              "size": 10,
              "solidity": 0.2
             }
            },
            "type": "barpolar"
           }
          ],
          "carpet": [
           {
            "aaxis": {
             "endlinecolor": "#2a3f5f",
             "gridcolor": "white",
             "linecolor": "white",
             "minorgridcolor": "white",
             "startlinecolor": "#2a3f5f"
            },
            "baxis": {
             "endlinecolor": "#2a3f5f",
             "gridcolor": "white",
             "linecolor": "white",
             "minorgridcolor": "white",
             "startlinecolor": "#2a3f5f"
            },
            "type": "carpet"
           }
          ],
          "choropleth": [
           {
            "colorbar": {
             "outlinewidth": 0,
             "ticks": ""
            },
            "type": "choropleth"
           }
          ],
          "contour": [
           {
            "colorbar": {
             "outlinewidth": 0,
             "ticks": ""
            },
            "colorscale": [
             [
              0,
              "#0d0887"
             ],
             [
              0.1111111111111111,
              "#46039f"
             ],
             [
              0.2222222222222222,
              "#7201a8"
             ],
             [
              0.3333333333333333,
              "#9c179e"
             ],
             [
              0.4444444444444444,
              "#bd3786"
             ],
             [
              0.5555555555555556,
              "#d8576b"
             ],
             [
              0.6666666666666666,
              "#ed7953"
             ],
             [
              0.7777777777777778,
              "#fb9f3a"
             ],
             [
              0.8888888888888888,
              "#fdca26"
             ],
             [
              1,
              "#f0f921"
             ]
            ],
            "type": "contour"
           }
          ],
          "contourcarpet": [
           {
            "colorbar": {
             "outlinewidth": 0,
             "ticks": ""
            },
            "type": "contourcarpet"
           }
          ],
          "heatmap": [
           {
            "colorbar": {
             "outlinewidth": 0,
             "ticks": ""
            },
            "colorscale": [
             [
              0,
              "#0d0887"
             ],
             [
              0.1111111111111111,
              "#46039f"
             ],
             [
              0.2222222222222222,
              "#7201a8"
             ],
             [
              0.3333333333333333,
              "#9c179e"
             ],
             [
              0.4444444444444444,
              "#bd3786"
             ],
             [
              0.5555555555555556,
              "#d8576b"
             ],
             [
              0.6666666666666666,
              "#ed7953"
             ],
             [
              0.7777777777777778,
              "#fb9f3a"
             ],
             [
              0.8888888888888888,
              "#fdca26"
             ],
             [
              1,
              "#f0f921"
             ]
            ],
            "type": "heatmap"
           }
          ],
          "heatmapgl": [
           {
            "colorbar": {
             "outlinewidth": 0,
             "ticks": ""
            },
            "colorscale": [
             [
              0,
              "#0d0887"
             ],
             [
              0.1111111111111111,
              "#46039f"
             ],
             [
              0.2222222222222222,
              "#7201a8"
             ],
             [
              0.3333333333333333,
              "#9c179e"
             ],
             [
              0.4444444444444444,
              "#bd3786"
             ],
             [
              0.5555555555555556,
              "#d8576b"
             ],
             [
              0.6666666666666666,
              "#ed7953"
             ],
             [
              0.7777777777777778,
              "#fb9f3a"
             ],
             [
              0.8888888888888888,
              "#fdca26"
             ],
             [
              1,
              "#f0f921"
             ]
            ],
            "type": "heatmapgl"
           }
          ],
          "histogram": [
           {
            "marker": {
             "pattern": {
              "fillmode": "overlay",
              "size": 10,
              "solidity": 0.2
             }
            },
            "type": "histogram"
           }
          ],
          "histogram2d": [
           {
            "colorbar": {
             "outlinewidth": 0,
             "ticks": ""
            },
            "colorscale": [
             [
              0,
              "#0d0887"
             ],
             [
              0.1111111111111111,
              "#46039f"
             ],
             [
              0.2222222222222222,
              "#7201a8"
             ],
             [
              0.3333333333333333,
              "#9c179e"
             ],
             [
              0.4444444444444444,
              "#bd3786"
             ],
             [
              0.5555555555555556,
              "#d8576b"
             ],
             [
              0.6666666666666666,
              "#ed7953"
             ],
             [
              0.7777777777777778,
              "#fb9f3a"
             ],
             [
              0.8888888888888888,
              "#fdca26"
             ],
             [
              1,
              "#f0f921"
             ]
            ],
            "type": "histogram2d"
           }
          ],
          "histogram2dcontour": [
           {
            "colorbar": {
             "outlinewidth": 0,
             "ticks": ""
            },
            "colorscale": [
             [
              0,
              "#0d0887"
             ],
             [
              0.1111111111111111,
              "#46039f"
             ],
             [
              0.2222222222222222,
              "#7201a8"
             ],
             [
              0.3333333333333333,
              "#9c179e"
             ],
             [
              0.4444444444444444,
              "#bd3786"
             ],
             [
              0.5555555555555556,
              "#d8576b"
             ],
             [
              0.6666666666666666,
              "#ed7953"
             ],
             [
              0.7777777777777778,
              "#fb9f3a"
             ],
             [
              0.8888888888888888,
              "#fdca26"
             ],
             [
              1,
              "#f0f921"
             ]
            ],
            "type": "histogram2dcontour"
           }
          ],
          "mesh3d": [
           {
            "colorbar": {
             "outlinewidth": 0,
             "ticks": ""
            },
            "type": "mesh3d"
           }
          ],
          "parcoords": [
           {
            "line": {
             "colorbar": {
              "outlinewidth": 0,
              "ticks": ""
             }
            },
            "type": "parcoords"
           }
          ],
          "pie": [
           {
            "automargin": true,
            "type": "pie"
           }
          ],
          "scatter": [
           {
            "fillpattern": {
             "fillmode": "overlay",
             "size": 10,
             "solidity": 0.2
            },
            "type": "scatter"
           }
          ],
          "scatter3d": [
           {
            "line": {
             "colorbar": {
              "outlinewidth": 0,
              "ticks": ""
             }
            },
            "marker": {
             "colorbar": {
              "outlinewidth": 0,
              "ticks": ""
             }
            },
            "type": "scatter3d"
           }
          ],
          "scattercarpet": [
           {
            "marker": {
             "colorbar": {
              "outlinewidth": 0,
              "ticks": ""
             }
            },
            "type": "scattercarpet"
           }
          ],
          "scattergeo": [
           {
            "marker": {
             "colorbar": {
              "outlinewidth": 0,
              "ticks": ""
             }
            },
            "type": "scattergeo"
           }
          ],
          "scattergl": [
           {
            "marker": {
             "colorbar": {
              "outlinewidth": 0,
              "ticks": ""
             }
            },
            "type": "scattergl"
           }
          ],
          "scattermapbox": [
           {
            "marker": {
             "colorbar": {
              "outlinewidth": 0,
              "ticks": ""
             }
            },
            "type": "scattermapbox"
           }
          ],
          "scatterpolar": [
           {
            "marker": {
             "colorbar": {
              "outlinewidth": 0,
              "ticks": ""
             }
            },
            "type": "scatterpolar"
           }
          ],
          "scatterpolargl": [
           {
            "marker": {
             "colorbar": {
              "outlinewidth": 0,
              "ticks": ""
             }
            },
            "type": "scatterpolargl"
           }
          ],
          "scatterternary": [
           {
            "marker": {
             "colorbar": {
              "outlinewidth": 0,
              "ticks": ""
             }
            },
            "type": "scatterternary"
           }
          ],
          "surface": [
           {
            "colorbar": {
             "outlinewidth": 0,
             "ticks": ""
            },
            "colorscale": [
             [
              0,
              "#0d0887"
             ],
             [
              0.1111111111111111,
              "#46039f"
             ],
             [
              0.2222222222222222,
              "#7201a8"
             ],
             [
              0.3333333333333333,
              "#9c179e"
             ],
             [
              0.4444444444444444,
              "#bd3786"
             ],
             [
              0.5555555555555556,
              "#d8576b"
             ],
             [
              0.6666666666666666,
              "#ed7953"
             ],
             [
              0.7777777777777778,
              "#fb9f3a"
             ],
             [
              0.8888888888888888,
              "#fdca26"
             ],
             [
              1,
              "#f0f921"
             ]
            ],
            "type": "surface"
           }
          ],
          "table": [
           {
            "cells": {
             "fill": {
              "color": "#EBF0F8"
             },
             "line": {
              "color": "white"
             }
            },
            "header": {
             "fill": {
              "color": "#C8D4E3"
             },
             "line": {
              "color": "white"
             }
            },
            "type": "table"
           }
          ]
         },
         "layout": {
          "annotationdefaults": {
           "arrowcolor": "#2a3f5f",
           "arrowhead": 0,
           "arrowwidth": 1
          },
          "autotypenumbers": "strict",
          "coloraxis": {
           "colorbar": {
            "outlinewidth": 0,
            "ticks": ""
           }
          },
          "colorscale": {
           "diverging": [
            [
             0,
             "#8e0152"
            ],
            [
             0.1,
             "#c51b7d"
            ],
            [
             0.2,
             "#de77ae"
            ],
            [
             0.3,
             "#f1b6da"
            ],
            [
             0.4,
             "#fde0ef"
            ],
            [
             0.5,
             "#f7f7f7"
            ],
            [
             0.6,
             "#e6f5d0"
            ],
            [
             0.7,
             "#b8e186"
            ],
            [
             0.8,
             "#7fbc41"
            ],
            [
             0.9,
             "#4d9221"
            ],
            [
             1,
             "#276419"
            ]
           ],
           "sequential": [
            [
             0,
             "#0d0887"
            ],
            [
             0.1111111111111111,
             "#46039f"
            ],
            [
             0.2222222222222222,
             "#7201a8"
            ],
            [
             0.3333333333333333,
             "#9c179e"
            ],
            [
             0.4444444444444444,
             "#bd3786"
            ],
            [
             0.5555555555555556,
             "#d8576b"
            ],
            [
             0.6666666666666666,
             "#ed7953"
            ],
            [
             0.7777777777777778,
             "#fb9f3a"
            ],
            [
             0.8888888888888888,
             "#fdca26"
            ],
            [
             1,
             "#f0f921"
            ]
           ],
           "sequentialminus": [
            [
             0,
             "#0d0887"
            ],
            [
             0.1111111111111111,
             "#46039f"
            ],
            [
             0.2222222222222222,
             "#7201a8"
            ],
            [
             0.3333333333333333,
             "#9c179e"
            ],
            [
             0.4444444444444444,
             "#bd3786"
            ],
            [
             0.5555555555555556,
             "#d8576b"
            ],
            [
             0.6666666666666666,
             "#ed7953"
            ],
            [
             0.7777777777777778,
             "#fb9f3a"
            ],
            [
             0.8888888888888888,
             "#fdca26"
            ],
            [
             1,
             "#f0f921"
            ]
           ]
          },
          "colorway": [
           "#636efa",
           "#EF553B",
           "#00cc96",
           "#ab63fa",
           "#FFA15A",
           "#19d3f3",
           "#FF6692",
           "#B6E880",
           "#FF97FF",
           "#FECB52"
          ],
          "font": {
           "color": "#2a3f5f"
          },
          "geo": {
           "bgcolor": "white",
           "lakecolor": "white",
           "landcolor": "#E5ECF6",
           "showlakes": true,
           "showland": true,
           "subunitcolor": "white"
          },
          "hoverlabel": {
           "align": "left"
          },
          "hovermode": "closest",
          "mapbox": {
           "style": "light"
          },
          "paper_bgcolor": "white",
          "plot_bgcolor": "#E5ECF6",
          "polar": {
           "angularaxis": {
            "gridcolor": "white",
            "linecolor": "white",
            "ticks": ""
           },
           "bgcolor": "#E5ECF6",
           "radialaxis": {
            "gridcolor": "white",
            "linecolor": "white",
            "ticks": ""
           }
          },
          "scene": {
           "xaxis": {
            "backgroundcolor": "#E5ECF6",
            "gridcolor": "white",
            "gridwidth": 2,
            "linecolor": "white",
            "showbackground": true,
            "ticks": "",
            "zerolinecolor": "white"
           },
           "yaxis": {
            "backgroundcolor": "#E5ECF6",
            "gridcolor": "white",
            "gridwidth": 2,
            "linecolor": "white",
            "showbackground": true,
            "ticks": "",
            "zerolinecolor": "white"
           },
           "zaxis": {
            "backgroundcolor": "#E5ECF6",
            "gridcolor": "white",
            "gridwidth": 2,
            "linecolor": "white",
            "showbackground": true,
            "ticks": "",
            "zerolinecolor": "white"
           }
          },
          "shapedefaults": {
           "line": {
            "color": "#2a3f5f"
           }
          },
          "ternary": {
           "aaxis": {
            "gridcolor": "white",
            "linecolor": "white",
            "ticks": ""
           },
           "baxis": {
            "gridcolor": "white",
            "linecolor": "white",
            "ticks": ""
           },
           "bgcolor": "#E5ECF6",
           "caxis": {
            "gridcolor": "white",
            "linecolor": "white",
            "ticks": ""
           }
          },
          "title": {
           "x": 0.05
          },
          "xaxis": {
           "automargin": true,
           "gridcolor": "white",
           "linecolor": "white",
           "ticks": "",
           "title": {
            "standoff": 15
           },
           "zerolinecolor": "white",
           "zerolinewidth": 2
          },
          "yaxis": {
           "automargin": true,
           "gridcolor": "white",
           "linecolor": "white",
           "ticks": "",
           "title": {
            "standoff": 15
           },
           "zerolinecolor": "white",
           "zerolinewidth": 2
          }
         }
        },
        "yaxis": {
         "side": "left",
         "title": {
          "text": "growth percentage (%)"
         }
        }
       }
      },
      "text/html": [
       "<div>                        <script type=\"text/javascript\">window.PlotlyConfig = {MathJaxConfig: 'local'};</script>\n",
       "        <script charset=\"utf-8\" src=\"https://cdn.plot.ly/plotly-2.31.1.min.js\"></script>                <div id=\"328287c0-ea18-40aa-a2c2-c94b55d83710\" class=\"plotly-graph-div\" style=\"height:100%; width:100%;\"></div>            <script type=\"text/javascript\">                                    window.PLOTLYENV=window.PLOTLYENV || {};                                    if (document.getElementById(\"328287c0-ea18-40aa-a2c2-c94b55d83710\")) {                    Plotly.newPlot(                        \"328287c0-ea18-40aa-a2c2-c94b55d83710\",                        [{\"name\":\"data_size\",\"x\":[\"2024\\u002f04\\u002f12\",\"2024\\u002f04\\u002f13\",\"2024\\u002f04\\u002f14\",\"2024\\u002f04\\u002f15\",\"2024\\u002f04\\u002f16\",\"2024\\u002f04\\u002f17\",\"2024\\u002f04\\u002f18\",\"2024\\u002f04\\u002f19\",\"2024\\u002f04\\u002f20\",\"2024\\u002f04\\u002f21\",\"2024\\u002f04\\u002f22\",\"2024\\u002f04\\u002f23\"],\"y\":[null,100.82731631229662,100.04512466299045,100.0,100.97945525524612,100.04451153856972,100.0,100.0,100.0,100.48904493265229,100.04088907328477,100.70820287441424],\"type\":\"scatter\"},{\"name\":\"index_size\",\"x\":[\"2024\\u002f04\\u002f12\",\"2024\\u002f04\\u002f13\",\"2024\\u002f04\\u002f14\",\"2024\\u002f04\\u002f15\",\"2024\\u002f04\\u002f16\",\"2024\\u002f04\\u002f17\",\"2024\\u002f04\\u002f18\",\"2024\\u002f04\\u002f19\",\"2024\\u002f04\\u002f20\",\"2024\\u002f04\\u002f21\",\"2024\\u002f04\\u002f22\",\"2024\\u002f04\\u002f23\"],\"y\":[null,100.0140884034509,100.01024466829045,100.12820376801763,100.24165909528251,100.00631790072683,100.13924016492565,100.00377309824626,100.23763556254772,100.39134824462732,100.01209191737905,100.23503459581957],\"type\":\"scatter\"},{\"name\":\"n_live_tup\",\"x\":[\"2024\\u002f04\\u002f12\",\"2024\\u002f04\\u002f13\",\"2024\\u002f04\\u002f14\",\"2024\\u002f04\\u002f15\",\"2024\\u002f04\\u002f16\",\"2024\\u002f04\\u002f17\",\"2024\\u002f04\\u002f18\",\"2024\\u002f04\\u002f19\",\"2024\\u002f04\\u002f20\",\"2024\\u002f04\\u002f21\",\"2024\\u002f04\\u002f22\",\"2024\\u002f04\\u002f23\"],\"y\":[null,99.24320002711693,102.07173602737916,100.28664325726537,98.54425605422652,102.05192526365472,100.1897061461849,99.94924623869188,99.95075594654,99.63201096429898,101.00522606426885,97.74599494528543],\"type\":\"scatter\"}],                        {\"template\":{\"data\":{\"histogram2dcontour\":[{\"type\":\"histogram2dcontour\",\"colorbar\":{\"outlinewidth\":0,\"ticks\":\"\"},\"colorscale\":[[0.0,\"#0d0887\"],[0.1111111111111111,\"#46039f\"],[0.2222222222222222,\"#7201a8\"],[0.3333333333333333,\"#9c179e\"],[0.4444444444444444,\"#bd3786\"],[0.5555555555555556,\"#d8576b\"],[0.6666666666666666,\"#ed7953\"],[0.7777777777777778,\"#fb9f3a\"],[0.8888888888888888,\"#fdca26\"],[1.0,\"#f0f921\"]]}],\"choropleth\":[{\"type\":\"choropleth\",\"colorbar\":{\"outlinewidth\":0,\"ticks\":\"\"}}],\"histogram2d\":[{\"type\":\"histogram2d\",\"colorbar\":{\"outlinewidth\":0,\"ticks\":\"\"},\"colorscale\":[[0.0,\"#0d0887\"],[0.1111111111111111,\"#46039f\"],[0.2222222222222222,\"#7201a8\"],[0.3333333333333333,\"#9c179e\"],[0.4444444444444444,\"#bd3786\"],[0.5555555555555556,\"#d8576b\"],[0.6666666666666666,\"#ed7953\"],[0.7777777777777778,\"#fb9f3a\"],[0.8888888888888888,\"#fdca26\"],[1.0,\"#f0f921\"]]}],\"heatmap\":[{\"type\":\"heatmap\",\"colorbar\":{\"outlinewidth\":0,\"ticks\":\"\"},\"colorscale\":[[0.0,\"#0d0887\"],[0.1111111111111111,\"#46039f\"],[0.2222222222222222,\"#7201a8\"],[0.3333333333333333,\"#9c179e\"],[0.4444444444444444,\"#bd3786\"],[0.5555555555555556,\"#d8576b\"],[0.6666666666666666,\"#ed7953\"],[0.7777777777777778,\"#fb9f3a\"],[0.8888888888888888,\"#fdca26\"],[1.0,\"#f0f921\"]]}],\"heatmapgl\":[{\"type\":\"heatmapgl\",\"colorbar\":{\"outlinewidth\":0,\"ticks\":\"\"},\"colorscale\":[[0.0,\"#0d0887\"],[0.1111111111111111,\"#46039f\"],[0.2222222222222222,\"#7201a8\"],[0.3333333333333333,\"#9c179e\"],[0.4444444444444444,\"#bd3786\"],[0.5555555555555556,\"#d8576b\"],[0.6666666666666666,\"#ed7953\"],[0.7777777777777778,\"#fb9f3a\"],[0.8888888888888888,\"#fdca26\"],[1.0,\"#f0f921\"]]}],\"contourcarpet\":[{\"type\":\"contourcarpet\",\"colorbar\":{\"outlinewidth\":0,\"ticks\":\"\"}}],\"contour\":[{\"type\":\"contour\",\"colorbar\":{\"outlinewidth\":0,\"ticks\":\"\"},\"colorscale\":[[0.0,\"#0d0887\"],[0.1111111111111111,\"#46039f\"],[0.2222222222222222,\"#7201a8\"],[0.3333333333333333,\"#9c179e\"],[0.4444444444444444,\"#bd3786\"],[0.5555555555555556,\"#d8576b\"],[0.6666666666666666,\"#ed7953\"],[0.7777777777777778,\"#fb9f3a\"],[0.8888888888888888,\"#fdca26\"],[1.0,\"#f0f921\"]]}],\"surface\":[{\"type\":\"surface\",\"colorbar\":{\"outlinewidth\":0,\"ticks\":\"\"},\"colorscale\":[[0.0,\"#0d0887\"],[0.1111111111111111,\"#46039f\"],[0.2222222222222222,\"#7201a8\"],[0.3333333333333333,\"#9c179e\"],[0.4444444444444444,\"#bd3786\"],[0.5555555555555556,\"#d8576b\"],[0.6666666666666666,\"#ed7953\"],[0.7777777777777778,\"#fb9f3a\"],[0.8888888888888888,\"#fdca26\"],[1.0,\"#f0f921\"]]}],\"mesh3d\":[{\"type\":\"mesh3d\",\"colorbar\":{\"outlinewidth\":0,\"ticks\":\"\"}}],\"scatter\":[{\"fillpattern\":{\"fillmode\":\"overlay\",\"size\":10,\"solidity\":0.2},\"type\":\"scatter\"}],\"parcoords\":[{\"type\":\"parcoords\",\"line\":{\"colorbar\":{\"outlinewidth\":0,\"ticks\":\"\"}}}],\"scatterpolargl\":[{\"type\":\"scatterpolargl\",\"marker\":{\"colorbar\":{\"outlinewidth\":0,\"ticks\":\"\"}}}],\"bar\":[{\"error_x\":{\"color\":\"#2a3f5f\"},\"error_y\":{\"color\":\"#2a3f5f\"},\"marker\":{\"line\":{\"color\":\"#E5ECF6\",\"width\":0.5},\"pattern\":{\"fillmode\":\"overlay\",\"size\":10,\"solidity\":0.2}},\"type\":\"bar\"}],\"scattergeo\":[{\"type\":\"scattergeo\",\"marker\":{\"colorbar\":{\"outlinewidth\":0,\"ticks\":\"\"}}}],\"scatterpolar\":[{\"type\":\"scatterpolar\",\"marker\":{\"colorbar\":{\"outlinewidth\":0,\"ticks\":\"\"}}}],\"histogram\":[{\"marker\":{\"pattern\":{\"fillmode\":\"overlay\",\"size\":10,\"solidity\":0.2}},\"type\":\"histogram\"}],\"scattergl\":[{\"type\":\"scattergl\",\"marker\":{\"colorbar\":{\"outlinewidth\":0,\"ticks\":\"\"}}}],\"scatter3d\":[{\"type\":\"scatter3d\",\"line\":{\"colorbar\":{\"outlinewidth\":0,\"ticks\":\"\"}},\"marker\":{\"colorbar\":{\"outlinewidth\":0,\"ticks\":\"\"}}}],\"scattermapbox\":[{\"type\":\"scattermapbox\",\"marker\":{\"colorbar\":{\"outlinewidth\":0,\"ticks\":\"\"}}}],\"scatterternary\":[{\"type\":\"scatterternary\",\"marker\":{\"colorbar\":{\"outlinewidth\":0,\"ticks\":\"\"}}}],\"scattercarpet\":[{\"type\":\"scattercarpet\",\"marker\":{\"colorbar\":{\"outlinewidth\":0,\"ticks\":\"\"}}}],\"carpet\":[{\"aaxis\":{\"endlinecolor\":\"#2a3f5f\",\"gridcolor\":\"white\",\"linecolor\":\"white\",\"minorgridcolor\":\"white\",\"startlinecolor\":\"#2a3f5f\"},\"baxis\":{\"endlinecolor\":\"#2a3f5f\",\"gridcolor\":\"white\",\"linecolor\":\"white\",\"minorgridcolor\":\"white\",\"startlinecolor\":\"#2a3f5f\"},\"type\":\"carpet\"}],\"table\":[{\"cells\":{\"fill\":{\"color\":\"#EBF0F8\"},\"line\":{\"color\":\"white\"}},\"header\":{\"fill\":{\"color\":\"#C8D4E3\"},\"line\":{\"color\":\"white\"}},\"type\":\"table\"}],\"barpolar\":[{\"marker\":{\"line\":{\"color\":\"#E5ECF6\",\"width\":0.5},\"pattern\":{\"fillmode\":\"overlay\",\"size\":10,\"solidity\":0.2}},\"type\":\"barpolar\"}],\"pie\":[{\"automargin\":true,\"type\":\"pie\"}]},\"layout\":{\"autotypenumbers\":\"strict\",\"colorway\":[\"#636efa\",\"#EF553B\",\"#00cc96\",\"#ab63fa\",\"#FFA15A\",\"#19d3f3\",\"#FF6692\",\"#B6E880\",\"#FF97FF\",\"#FECB52\"],\"font\":{\"color\":\"#2a3f5f\"},\"hovermode\":\"closest\",\"hoverlabel\":{\"align\":\"left\"},\"paper_bgcolor\":\"white\",\"plot_bgcolor\":\"#E5ECF6\",\"polar\":{\"bgcolor\":\"#E5ECF6\",\"angularaxis\":{\"gridcolor\":\"white\",\"linecolor\":\"white\",\"ticks\":\"\"},\"radialaxis\":{\"gridcolor\":\"white\",\"linecolor\":\"white\",\"ticks\":\"\"}},\"ternary\":{\"bgcolor\":\"#E5ECF6\",\"aaxis\":{\"gridcolor\":\"white\",\"linecolor\":\"white\",\"ticks\":\"\"},\"baxis\":{\"gridcolor\":\"white\",\"linecolor\":\"white\",\"ticks\":\"\"},\"caxis\":{\"gridcolor\":\"white\",\"linecolor\":\"white\",\"ticks\":\"\"}},\"coloraxis\":{\"colorbar\":{\"outlinewidth\":0,\"ticks\":\"\"}},\"colorscale\":{\"sequential\":[[0.0,\"#0d0887\"],[0.1111111111111111,\"#46039f\"],[0.2222222222222222,\"#7201a8\"],[0.3333333333333333,\"#9c179e\"],[0.4444444444444444,\"#bd3786\"],[0.5555555555555556,\"#d8576b\"],[0.6666666666666666,\"#ed7953\"],[0.7777777777777778,\"#fb9f3a\"],[0.8888888888888888,\"#fdca26\"],[1.0,\"#f0f921\"]],\"sequentialminus\":[[0.0,\"#0d0887\"],[0.1111111111111111,\"#46039f\"],[0.2222222222222222,\"#7201a8\"],[0.3333333333333333,\"#9c179e\"],[0.4444444444444444,\"#bd3786\"],[0.5555555555555556,\"#d8576b\"],[0.6666666666666666,\"#ed7953\"],[0.7777777777777778,\"#fb9f3a\"],[0.8888888888888888,\"#fdca26\"],[1.0,\"#f0f921\"]],\"diverging\":[[0,\"#8e0152\"],[0.1,\"#c51b7d\"],[0.2,\"#de77ae\"],[0.3,\"#f1b6da\"],[0.4,\"#fde0ef\"],[0.5,\"#f7f7f7\"],[0.6,\"#e6f5d0\"],[0.7,\"#b8e186\"],[0.8,\"#7fbc41\"],[0.9,\"#4d9221\"],[1,\"#276419\"]]},\"xaxis\":{\"gridcolor\":\"white\",\"linecolor\":\"white\",\"ticks\":\"\",\"title\":{\"standoff\":15},\"zerolinecolor\":\"white\",\"automargin\":true,\"zerolinewidth\":2},\"yaxis\":{\"gridcolor\":\"white\",\"linecolor\":\"white\",\"ticks\":\"\",\"title\":{\"standoff\":15},\"zerolinecolor\":\"white\",\"automargin\":true,\"zerolinewidth\":2},\"scene\":{\"xaxis\":{\"backgroundcolor\":\"#E5ECF6\",\"gridcolor\":\"white\",\"linecolor\":\"white\",\"showbackground\":true,\"ticks\":\"\",\"zerolinecolor\":\"white\",\"gridwidth\":2},\"yaxis\":{\"backgroundcolor\":\"#E5ECF6\",\"gridcolor\":\"white\",\"linecolor\":\"white\",\"showbackground\":true,\"ticks\":\"\",\"zerolinecolor\":\"white\",\"gridwidth\":2},\"zaxis\":{\"backgroundcolor\":\"#E5ECF6\",\"gridcolor\":\"white\",\"linecolor\":\"white\",\"showbackground\":true,\"ticks\":\"\",\"zerolinecolor\":\"white\",\"gridwidth\":2}},\"shapedefaults\":{\"line\":{\"color\":\"#2a3f5f\"}},\"annotationdefaults\":{\"arrowcolor\":\"#2a3f5f\",\"arrowhead\":0,\"arrowwidth\":1},\"geo\":{\"bgcolor\":\"white\",\"landcolor\":\"#E5ECF6\",\"subunitcolor\":\"white\",\"showland\":true,\"showlakes\":true,\"lakecolor\":\"white\"},\"title\":{\"x\":0.05},\"mapbox\":{\"style\":\"light\"}}},\"yaxis\":{\"title\":{\"text\":\"growth percentage (%)\"},\"side\":\"left\"}},                        {\"responsive\": true}                    )                };                            </script>        </div>"
      ],
      "text/plain": [
       "Figure({\n",
       "    'data': [{'name': 'data_size',\n",
       "              'type': 'scatter',\n",
       "              'x': array(['2024/04/12', '2024/04/13', '2024/04/14', '2024/04/15', '2024/04/16',\n",
       "                          '2024/04/17', '2024/04/18', '2024/04/19', '2024/04/20', '2024/04/21',\n",
       "                          '2024/04/22', '2024/04/23'], dtype=object),\n",
       "              'y': array([         nan, 100.82731631, 100.04512466, 100.        , 100.97945526,\n",
       "                          100.04451154, 100.        , 100.        , 100.        , 100.48904493,\n",
       "                          100.04088907, 100.70820287])},\n",
       "             {'name': 'index_size',\n",
       "              'type': 'scatter',\n",
       "              'x': array(['2024/04/12', '2024/04/13', '2024/04/14', '2024/04/15', '2024/04/16',\n",
       "                          '2024/04/17', '2024/04/18', '2024/04/19', '2024/04/20', '2024/04/21',\n",
       "                          '2024/04/22', '2024/04/23'], dtype=object),\n",
       "              'y': array([         nan, 100.0140884 , 100.01024467, 100.12820377, 100.2416591 ,\n",
       "                          100.0063179 , 100.13924016, 100.0037731 , 100.23763556, 100.39134824,\n",
       "                          100.01209192, 100.2350346 ])},\n",
       "             {'name': 'n_live_tup',\n",
       "              'type': 'scatter',\n",
       "              'x': array(['2024/04/12', '2024/04/13', '2024/04/14', '2024/04/15', '2024/04/16',\n",
       "                          '2024/04/17', '2024/04/18', '2024/04/19', '2024/04/20', '2024/04/21',\n",
       "                          '2024/04/22', '2024/04/23'], dtype=object),\n",
       "              'y': array([         nan,  99.24320003, 102.07173603, 100.28664326,  98.54425605,\n",
       "                          102.05192526, 100.18970615,  99.94924624,  99.95075595,  99.63201096,\n",
       "                          101.00522606,  97.74599495])}],\n",
       "    'layout': {'template': '...', 'yaxis': {'side': 'left', 'title': {'text': 'growth percentage (%)'}}}\n",
       "})"
      ]
     },
     "execution_count": 105,
     "metadata": {},
     "output_type": "execute_result"
    }
   ],
   "source": [
    "f = scatters(diff_df, ['data_size', 'index_size', 'n_live_tup'])\n",
    "f"
   ]
  }
 ],
 "metadata": {
  "kernelspec": {
   "display_name": "Python 3",
   "language": "python",
   "name": "python3"
  },
  "language_info": {
   "codemirror_mode": {
    "name": "ipython",
    "version": 3
   },
   "file_extension": ".py",
   "mimetype": "text/x-python",
   "name": "python",
   "nbconvert_exporter": "python",
   "pygments_lexer": "ipython3",
   "version": "3.10.14"
  }
 },
 "nbformat": 4,
 "nbformat_minor": 2
}
