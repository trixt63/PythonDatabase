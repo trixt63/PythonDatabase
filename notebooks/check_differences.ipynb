{
 "cells": [
  {
   "cell_type": "code",
   "execution_count": 1,
   "metadata": {},
   "outputs": [],
   "source": [
    "%load_ext autoreload\n",
    "%autoreload 2\n",
    "import os\n",
    "import sys\n",
    "sys.path.append(os.path.dirname(sys.path[0]))"
   ]
  },
  {
   "cell_type": "code",
   "execution_count": 2,
   "metadata": {},
   "outputs": [],
   "source": [
    "import pandas as pd\n",
    "from databases.postgresql import PostgresDB, Session"
   ]
  },
  {
   "cell_type": "code",
   "execution_count": 3,
   "metadata": {
    "metadata": {}
   },
   "outputs": [
    {
     "data": {
      "text/plain": [
       "[['2023/12/28', '2023/12/29'],\n",
       " ['2023/12/29', '2023/12/30'],\n",
       " ['2023/12/30', '2023/12/31'],\n",
       " ['2023/12/31', '2024/01/01'],\n",
       " ['2024/01/01', '2024/01/02'],\n",
       " ['2024/01/02', '2024/01/03'],\n",
       " ['2024/01/03', '2024/01/04'],\n",
       " ['2024/01/04', '2024/01/05'],\n",
       " ['2024/01/05', '2024/01/06'],\n",
       " ['2024/01/06', '2024/01/07'],\n",
       " ['2024/01/07', '2024/01/08'],\n",
       " ['2024/01/08', '2024/01/09']]"
      ]
     },
     "execution_count": 3,
     "metadata": {},
     "output_type": "execute_result"
    }
   ],
   "source": [
    "dates = [\n",
    "'2023/12/28',\n",
    "'2023/12/29',\n",
    "'2023/12/30',\n",
    "'2023/12/31',\n",
    "'2024/01/01',\n",
    "'2024/01/02',\n",
    "'2024/01/03',\n",
    "'2024/01/04',\n",
    "'2024/01/05',\n",
    "'2024/01/06',\n",
    "'2024/01/07',\n",
    "'2024/01/08',\n",
    "'2024/01/09'\n",
    "]\n",
    "\n",
    "dates_pairs = list()\n",
    "for i in range(0, len(dates) - 1):\n",
    "    dates_pairs.append([dates[i], dates[i+1]])\n",
    "dates_pairs"
   ]
  },
  {
   "cell_type": "code",
   "execution_count": 6,
   "metadata": {
    "metadata": {}
   },
   "outputs": [
    {
     "ename": "FileNotFoundError",
     "evalue": "[Errno 2] No such file or directory: '../data/chain_0x38_tables_size.csv'",
     "output_type": "error",
     "traceback": [
      "\u001b[0;31m---------------------------------------------------------------------------\u001b[0m",
      "\u001b[0;31mFileNotFoundError\u001b[0m                         Traceback (most recent call last)",
      "Cell \u001b[0;32mIn[6], line 9\u001b[0m\n\u001b[1;32m      6\u001b[0m tables \u001b[38;5;241m=\u001b[39m [\u001b[38;5;124m'\u001b[39m\u001b[38;5;124mamount_in_out\u001b[39m\u001b[38;5;124m'\u001b[39m,\t\u001b[38;5;124m'\u001b[39m\u001b[38;5;124mdapp_interaction\u001b[39m\u001b[38;5;124m'\u001b[39m,\t\u001b[38;5;124m'\u001b[39m\u001b[38;5;124msmart_contract\u001b[39m\u001b[38;5;124m'\u001b[39m,\t\u001b[38;5;124m'\u001b[39m\u001b[38;5;124mtoken_decimals\u001b[39m\u001b[38;5;124m'\u001b[39m,\t\u001b[38;5;124m'\u001b[39m\u001b[38;5;124mtoken_transfer\u001b[39m\u001b[38;5;124m'\u001b[39m, \u001b[38;5;124m'\u001b[39m\u001b[38;5;124mwrapped_token\u001b[39m\u001b[38;5;124m'\u001b[39m]\n\u001b[1;32m      8\u001b[0m \u001b[38;5;28;01mfor\u001b[39;00m schema \u001b[38;5;129;01min\u001b[39;00m schemas:\n\u001b[0;32m----> 9\u001b[0m     tables_sizes[schema] \u001b[38;5;241m=\u001b[39m \u001b[43mpd\u001b[49m\u001b[38;5;241;43m.\u001b[39;49m\u001b[43mread_csv\u001b[49m\u001b[43m(\u001b[49m\u001b[38;5;124;43mf\u001b[39;49m\u001b[38;5;124;43m'\u001b[39;49m\u001b[38;5;124;43m../data/\u001b[39;49m\u001b[38;5;132;43;01m{\u001b[39;49;00m\u001b[43mschema\u001b[49m\u001b[38;5;132;43;01m}\u001b[39;49;00m\u001b[38;5;124;43m_tables_size.csv\u001b[39;49m\u001b[38;5;124;43m'\u001b[39;49m\u001b[43m,\u001b[49m\u001b[43m \u001b[49m\u001b[43mindex_col\u001b[49m\u001b[38;5;241;43m=\u001b[39;49m\u001b[38;5;124;43m'\u001b[39;49m\u001b[38;5;124;43mtime\u001b[39;49m\u001b[38;5;124;43m'\u001b[39;49m\u001b[43m)\u001b[49m\n\u001b[1;32m     10\u001b[0m     tables_sizes[schema] \u001b[38;5;241m=\u001b[39m tables_sizes[schema]\u001b[38;5;241m.\u001b[39mloc[dates, tables]\n\u001b[1;32m     11\u001b[0m     tables_sizes[schema] \u001b[38;5;241m=\u001b[39m tables_sizes[schema]\u001b[38;5;241m.\u001b[39mapply(pd\u001b[38;5;241m.\u001b[39mto_numeric)\n",
      "File \u001b[0;32m~/Tovchain/PythonDatabase/venv/lib64/python3.10/site-packages/pandas/io/parsers/readers.py:1026\u001b[0m, in \u001b[0;36mread_csv\u001b[0;34m(filepath_or_buffer, sep, delimiter, header, names, index_col, usecols, dtype, engine, converters, true_values, false_values, skipinitialspace, skiprows, skipfooter, nrows, na_values, keep_default_na, na_filter, verbose, skip_blank_lines, parse_dates, infer_datetime_format, keep_date_col, date_parser, date_format, dayfirst, cache_dates, iterator, chunksize, compression, thousands, decimal, lineterminator, quotechar, quoting, doublequote, escapechar, comment, encoding, encoding_errors, dialect, on_bad_lines, delim_whitespace, low_memory, memory_map, float_precision, storage_options, dtype_backend)\u001b[0m\n\u001b[1;32m   1013\u001b[0m kwds_defaults \u001b[38;5;241m=\u001b[39m _refine_defaults_read(\n\u001b[1;32m   1014\u001b[0m     dialect,\n\u001b[1;32m   1015\u001b[0m     delimiter,\n\u001b[0;32m   (...)\u001b[0m\n\u001b[1;32m   1022\u001b[0m     dtype_backend\u001b[38;5;241m=\u001b[39mdtype_backend,\n\u001b[1;32m   1023\u001b[0m )\n\u001b[1;32m   1024\u001b[0m kwds\u001b[38;5;241m.\u001b[39mupdate(kwds_defaults)\n\u001b[0;32m-> 1026\u001b[0m \u001b[38;5;28;01mreturn\u001b[39;00m \u001b[43m_read\u001b[49m\u001b[43m(\u001b[49m\u001b[43mfilepath_or_buffer\u001b[49m\u001b[43m,\u001b[49m\u001b[43m \u001b[49m\u001b[43mkwds\u001b[49m\u001b[43m)\u001b[49m\n",
      "File \u001b[0;32m~/Tovchain/PythonDatabase/venv/lib64/python3.10/site-packages/pandas/io/parsers/readers.py:620\u001b[0m, in \u001b[0;36m_read\u001b[0;34m(filepath_or_buffer, kwds)\u001b[0m\n\u001b[1;32m    617\u001b[0m _validate_names(kwds\u001b[38;5;241m.\u001b[39mget(\u001b[38;5;124m\"\u001b[39m\u001b[38;5;124mnames\u001b[39m\u001b[38;5;124m\"\u001b[39m, \u001b[38;5;28;01mNone\u001b[39;00m))\n\u001b[1;32m    619\u001b[0m \u001b[38;5;66;03m# Create the parser.\u001b[39;00m\n\u001b[0;32m--> 620\u001b[0m parser \u001b[38;5;241m=\u001b[39m \u001b[43mTextFileReader\u001b[49m\u001b[43m(\u001b[49m\u001b[43mfilepath_or_buffer\u001b[49m\u001b[43m,\u001b[49m\u001b[43m \u001b[49m\u001b[38;5;241;43m*\u001b[39;49m\u001b[38;5;241;43m*\u001b[39;49m\u001b[43mkwds\u001b[49m\u001b[43m)\u001b[49m\n\u001b[1;32m    622\u001b[0m \u001b[38;5;28;01mif\u001b[39;00m chunksize \u001b[38;5;129;01mor\u001b[39;00m iterator:\n\u001b[1;32m    623\u001b[0m     \u001b[38;5;28;01mreturn\u001b[39;00m parser\n",
      "File \u001b[0;32m~/Tovchain/PythonDatabase/venv/lib64/python3.10/site-packages/pandas/io/parsers/readers.py:1620\u001b[0m, in \u001b[0;36mTextFileReader.__init__\u001b[0;34m(self, f, engine, **kwds)\u001b[0m\n\u001b[1;32m   1617\u001b[0m     \u001b[38;5;28mself\u001b[39m\u001b[38;5;241m.\u001b[39moptions[\u001b[38;5;124m\"\u001b[39m\u001b[38;5;124mhas_index_names\u001b[39m\u001b[38;5;124m\"\u001b[39m] \u001b[38;5;241m=\u001b[39m kwds[\u001b[38;5;124m\"\u001b[39m\u001b[38;5;124mhas_index_names\u001b[39m\u001b[38;5;124m\"\u001b[39m]\n\u001b[1;32m   1619\u001b[0m \u001b[38;5;28mself\u001b[39m\u001b[38;5;241m.\u001b[39mhandles: IOHandles \u001b[38;5;241m|\u001b[39m \u001b[38;5;28;01mNone\u001b[39;00m \u001b[38;5;241m=\u001b[39m \u001b[38;5;28;01mNone\u001b[39;00m\n\u001b[0;32m-> 1620\u001b[0m \u001b[38;5;28mself\u001b[39m\u001b[38;5;241m.\u001b[39m_engine \u001b[38;5;241m=\u001b[39m \u001b[38;5;28;43mself\u001b[39;49m\u001b[38;5;241;43m.\u001b[39;49m\u001b[43m_make_engine\u001b[49m\u001b[43m(\u001b[49m\u001b[43mf\u001b[49m\u001b[43m,\u001b[49m\u001b[43m \u001b[49m\u001b[38;5;28;43mself\u001b[39;49m\u001b[38;5;241;43m.\u001b[39;49m\u001b[43mengine\u001b[49m\u001b[43m)\u001b[49m\n",
      "File \u001b[0;32m~/Tovchain/PythonDatabase/venv/lib64/python3.10/site-packages/pandas/io/parsers/readers.py:1880\u001b[0m, in \u001b[0;36mTextFileReader._make_engine\u001b[0;34m(self, f, engine)\u001b[0m\n\u001b[1;32m   1878\u001b[0m     \u001b[38;5;28;01mif\u001b[39;00m \u001b[38;5;124m\"\u001b[39m\u001b[38;5;124mb\u001b[39m\u001b[38;5;124m\"\u001b[39m \u001b[38;5;129;01mnot\u001b[39;00m \u001b[38;5;129;01min\u001b[39;00m mode:\n\u001b[1;32m   1879\u001b[0m         mode \u001b[38;5;241m+\u001b[39m\u001b[38;5;241m=\u001b[39m \u001b[38;5;124m\"\u001b[39m\u001b[38;5;124mb\u001b[39m\u001b[38;5;124m\"\u001b[39m\n\u001b[0;32m-> 1880\u001b[0m \u001b[38;5;28mself\u001b[39m\u001b[38;5;241m.\u001b[39mhandles \u001b[38;5;241m=\u001b[39m \u001b[43mget_handle\u001b[49m\u001b[43m(\u001b[49m\n\u001b[1;32m   1881\u001b[0m \u001b[43m    \u001b[49m\u001b[43mf\u001b[49m\u001b[43m,\u001b[49m\n\u001b[1;32m   1882\u001b[0m \u001b[43m    \u001b[49m\u001b[43mmode\u001b[49m\u001b[43m,\u001b[49m\n\u001b[1;32m   1883\u001b[0m \u001b[43m    \u001b[49m\u001b[43mencoding\u001b[49m\u001b[38;5;241;43m=\u001b[39;49m\u001b[38;5;28;43mself\u001b[39;49m\u001b[38;5;241;43m.\u001b[39;49m\u001b[43moptions\u001b[49m\u001b[38;5;241;43m.\u001b[39;49m\u001b[43mget\u001b[49m\u001b[43m(\u001b[49m\u001b[38;5;124;43m\"\u001b[39;49m\u001b[38;5;124;43mencoding\u001b[39;49m\u001b[38;5;124;43m\"\u001b[39;49m\u001b[43m,\u001b[49m\u001b[43m \u001b[49m\u001b[38;5;28;43;01mNone\u001b[39;49;00m\u001b[43m)\u001b[49m\u001b[43m,\u001b[49m\n\u001b[1;32m   1884\u001b[0m \u001b[43m    \u001b[49m\u001b[43mcompression\u001b[49m\u001b[38;5;241;43m=\u001b[39;49m\u001b[38;5;28;43mself\u001b[39;49m\u001b[38;5;241;43m.\u001b[39;49m\u001b[43moptions\u001b[49m\u001b[38;5;241;43m.\u001b[39;49m\u001b[43mget\u001b[49m\u001b[43m(\u001b[49m\u001b[38;5;124;43m\"\u001b[39;49m\u001b[38;5;124;43mcompression\u001b[39;49m\u001b[38;5;124;43m\"\u001b[39;49m\u001b[43m,\u001b[49m\u001b[43m \u001b[49m\u001b[38;5;28;43;01mNone\u001b[39;49;00m\u001b[43m)\u001b[49m\u001b[43m,\u001b[49m\n\u001b[1;32m   1885\u001b[0m \u001b[43m    \u001b[49m\u001b[43mmemory_map\u001b[49m\u001b[38;5;241;43m=\u001b[39;49m\u001b[38;5;28;43mself\u001b[39;49m\u001b[38;5;241;43m.\u001b[39;49m\u001b[43moptions\u001b[49m\u001b[38;5;241;43m.\u001b[39;49m\u001b[43mget\u001b[49m\u001b[43m(\u001b[49m\u001b[38;5;124;43m\"\u001b[39;49m\u001b[38;5;124;43mmemory_map\u001b[39;49m\u001b[38;5;124;43m\"\u001b[39;49m\u001b[43m,\u001b[49m\u001b[43m \u001b[49m\u001b[38;5;28;43;01mFalse\u001b[39;49;00m\u001b[43m)\u001b[49m\u001b[43m,\u001b[49m\n\u001b[1;32m   1886\u001b[0m \u001b[43m    \u001b[49m\u001b[43mis_text\u001b[49m\u001b[38;5;241;43m=\u001b[39;49m\u001b[43mis_text\u001b[49m\u001b[43m,\u001b[49m\n\u001b[1;32m   1887\u001b[0m \u001b[43m    \u001b[49m\u001b[43merrors\u001b[49m\u001b[38;5;241;43m=\u001b[39;49m\u001b[38;5;28;43mself\u001b[39;49m\u001b[38;5;241;43m.\u001b[39;49m\u001b[43moptions\u001b[49m\u001b[38;5;241;43m.\u001b[39;49m\u001b[43mget\u001b[49m\u001b[43m(\u001b[49m\u001b[38;5;124;43m\"\u001b[39;49m\u001b[38;5;124;43mencoding_errors\u001b[39;49m\u001b[38;5;124;43m\"\u001b[39;49m\u001b[43m,\u001b[49m\u001b[43m \u001b[49m\u001b[38;5;124;43m\"\u001b[39;49m\u001b[38;5;124;43mstrict\u001b[39;49m\u001b[38;5;124;43m\"\u001b[39;49m\u001b[43m)\u001b[49m\u001b[43m,\u001b[49m\n\u001b[1;32m   1888\u001b[0m \u001b[43m    \u001b[49m\u001b[43mstorage_options\u001b[49m\u001b[38;5;241;43m=\u001b[39;49m\u001b[38;5;28;43mself\u001b[39;49m\u001b[38;5;241;43m.\u001b[39;49m\u001b[43moptions\u001b[49m\u001b[38;5;241;43m.\u001b[39;49m\u001b[43mget\u001b[49m\u001b[43m(\u001b[49m\u001b[38;5;124;43m\"\u001b[39;49m\u001b[38;5;124;43mstorage_options\u001b[39;49m\u001b[38;5;124;43m\"\u001b[39;49m\u001b[43m,\u001b[49m\u001b[43m \u001b[49m\u001b[38;5;28;43;01mNone\u001b[39;49;00m\u001b[43m)\u001b[49m\u001b[43m,\u001b[49m\n\u001b[1;32m   1889\u001b[0m \u001b[43m\u001b[49m\u001b[43m)\u001b[49m\n\u001b[1;32m   1890\u001b[0m \u001b[38;5;28;01massert\u001b[39;00m \u001b[38;5;28mself\u001b[39m\u001b[38;5;241m.\u001b[39mhandles \u001b[38;5;129;01mis\u001b[39;00m \u001b[38;5;129;01mnot\u001b[39;00m \u001b[38;5;28;01mNone\u001b[39;00m\n\u001b[1;32m   1891\u001b[0m f \u001b[38;5;241m=\u001b[39m \u001b[38;5;28mself\u001b[39m\u001b[38;5;241m.\u001b[39mhandles\u001b[38;5;241m.\u001b[39mhandle\n",
      "File \u001b[0;32m~/Tovchain/PythonDatabase/venv/lib64/python3.10/site-packages/pandas/io/common.py:873\u001b[0m, in \u001b[0;36mget_handle\u001b[0;34m(path_or_buf, mode, encoding, compression, memory_map, is_text, errors, storage_options)\u001b[0m\n\u001b[1;32m    868\u001b[0m \u001b[38;5;28;01melif\u001b[39;00m \u001b[38;5;28misinstance\u001b[39m(handle, \u001b[38;5;28mstr\u001b[39m):\n\u001b[1;32m    869\u001b[0m     \u001b[38;5;66;03m# Check whether the filename is to be opened in binary mode.\u001b[39;00m\n\u001b[1;32m    870\u001b[0m     \u001b[38;5;66;03m# Binary mode does not support 'encoding' and 'newline'.\u001b[39;00m\n\u001b[1;32m    871\u001b[0m     \u001b[38;5;28;01mif\u001b[39;00m ioargs\u001b[38;5;241m.\u001b[39mencoding \u001b[38;5;129;01mand\u001b[39;00m \u001b[38;5;124m\"\u001b[39m\u001b[38;5;124mb\u001b[39m\u001b[38;5;124m\"\u001b[39m \u001b[38;5;129;01mnot\u001b[39;00m \u001b[38;5;129;01min\u001b[39;00m ioargs\u001b[38;5;241m.\u001b[39mmode:\n\u001b[1;32m    872\u001b[0m         \u001b[38;5;66;03m# Encoding\u001b[39;00m\n\u001b[0;32m--> 873\u001b[0m         handle \u001b[38;5;241m=\u001b[39m \u001b[38;5;28;43mopen\u001b[39;49m\u001b[43m(\u001b[49m\n\u001b[1;32m    874\u001b[0m \u001b[43m            \u001b[49m\u001b[43mhandle\u001b[49m\u001b[43m,\u001b[49m\n\u001b[1;32m    875\u001b[0m \u001b[43m            \u001b[49m\u001b[43mioargs\u001b[49m\u001b[38;5;241;43m.\u001b[39;49m\u001b[43mmode\u001b[49m\u001b[43m,\u001b[49m\n\u001b[1;32m    876\u001b[0m \u001b[43m            \u001b[49m\u001b[43mencoding\u001b[49m\u001b[38;5;241;43m=\u001b[39;49m\u001b[43mioargs\u001b[49m\u001b[38;5;241;43m.\u001b[39;49m\u001b[43mencoding\u001b[49m\u001b[43m,\u001b[49m\n\u001b[1;32m    877\u001b[0m \u001b[43m            \u001b[49m\u001b[43merrors\u001b[49m\u001b[38;5;241;43m=\u001b[39;49m\u001b[43merrors\u001b[49m\u001b[43m,\u001b[49m\n\u001b[1;32m    878\u001b[0m \u001b[43m            \u001b[49m\u001b[43mnewline\u001b[49m\u001b[38;5;241;43m=\u001b[39;49m\u001b[38;5;124;43m\"\u001b[39;49m\u001b[38;5;124;43m\"\u001b[39;49m\u001b[43m,\u001b[49m\n\u001b[1;32m    879\u001b[0m \u001b[43m        \u001b[49m\u001b[43m)\u001b[49m\n\u001b[1;32m    880\u001b[0m     \u001b[38;5;28;01melse\u001b[39;00m:\n\u001b[1;32m    881\u001b[0m         \u001b[38;5;66;03m# Binary mode\u001b[39;00m\n\u001b[1;32m    882\u001b[0m         handle \u001b[38;5;241m=\u001b[39m \u001b[38;5;28mopen\u001b[39m(handle, ioargs\u001b[38;5;241m.\u001b[39mmode)\n",
      "\u001b[0;31mFileNotFoundError\u001b[0m: [Errno 2] No such file or directory: '../data/chain_0x38_tables_size.csv'"
     ]
    }
   ],
   "source": [
    "schemas = ['chain_0x38', 'chain_0x1', 'chain_0xfa', 'chain_0x89',\n",
    "            'chain_0xa', 'chain_0xa4b1', 'chain_0xa86a', 'chain_0x2b6653dc']\n",
    "\n",
    "tables_sizes = dict()\n",
    "\n",
    "tables = ['amount_in_out',\t'dapp_interaction',\t'smart_contract',\t'token_decimals',\t'token_transfer', 'wrapped_token']\n",
    "\n",
    "for schema in schemas:\n",
    "    tables_sizes[schema] = pd.read_csv(f'../data/{schema}_tables_size.csv', index_col='time')\n",
    "    tables_sizes[schema] = tables_sizes[schema].loc[dates, tables]\n",
    "    tables_sizes[schema] = tables_sizes[schema].apply(pd.to_numeric)\n",
    "\n"
   ]
  },
  {
   "cell_type": "code",
   "execution_count": 5,
   "metadata": {},
   "outputs": [],
   "source": [
    "def subtract_rows(df: pd.DataFrame, date_1: str, date_2):\n",
    "    _diffs = (df.loc[date_2] - df.loc[date_1])\n",
    "    _diffs = _diffs.to_frame().T\n",
    "    _diffs['time'] = date_2\n",
    "    _diffs.set_index('time', inplace=True)\n",
    "    return _diffs"
   ]
  },
  {
   "cell_type": "code",
   "execution_count": 6,
   "metadata": {},
   "outputs": [],
   "source": [
    "differences = dict()\n",
    "for schema in schemas:\n",
    "    # differences[schema] = pd.DataFrame()\n",
    "    for _i, _dates_pair in enumerate(dates_pairs):\n",
    "        _diffs = subtract_rows(df=tables_sizes[schema], date_2=_dates_pair[1], date_1=_dates_pair[0])\n",
    "        if _i < 1:\n",
    "            differences[schema] = _diffs\n",
    "        else:\n",
    "            differences[schema] = pd.concat([differences[schema], _diffs])\n",
    "            \n",
    "    differences[schema]['sum'] = differences[schema].sum(axis=1)"
   ]
  },
  {
   "cell_type": "code",
   "execution_count": 7,
   "metadata": {},
   "outputs": [
    {
     "name": "stdout",
     "output_type": "stream",
     "text": [
      "chain_0x38\n"
     ]
    },
    {
     "data": {
      "text/html": [
       "<div>\n",
       "<style scoped>\n",
       "    .dataframe tbody tr th:only-of-type {\n",
       "        vertical-align: middle;\n",
       "    }\n",
       "\n",
       "    .dataframe tbody tr th {\n",
       "        vertical-align: top;\n",
       "    }\n",
       "\n",
       "    .dataframe thead th {\n",
       "        text-align: right;\n",
       "    }\n",
       "</style>\n",
       "<table border=\"1\" class=\"dataframe\">\n",
       "  <thead>\n",
       "    <tr style=\"text-align: right;\">\n",
       "      <th></th>\n",
       "      <th>amount_in_out</th>\n",
       "      <th>dapp_interaction</th>\n",
       "      <th>smart_contract</th>\n",
       "      <th>token_decimals</th>\n",
       "      <th>token_transfer</th>\n",
       "      <th>wrapped_token</th>\n",
       "      <th>sum</th>\n",
       "    </tr>\n",
       "    <tr>\n",
       "      <th>time</th>\n",
       "      <th></th>\n",
       "      <th></th>\n",
       "      <th></th>\n",
       "      <th></th>\n",
       "      <th></th>\n",
       "      <th></th>\n",
       "      <th></th>\n",
       "    </tr>\n",
       "  </thead>\n",
       "  <tbody>\n",
       "    <tr>\n",
       "      <th>2023/12/29</th>\n",
       "      <td>40280064</td>\n",
       "      <td>171638784</td>\n",
       "      <td>0</td>\n",
       "      <td>204800</td>\n",
       "      <td>285523968</td>\n",
       "      <td>39149568</td>\n",
       "      <td>536797184</td>\n",
       "    </tr>\n",
       "    <tr>\n",
       "      <th>2023/12/30</th>\n",
       "      <td>89194496</td>\n",
       "      <td>139264</td>\n",
       "      <td>0</td>\n",
       "      <td>172032</td>\n",
       "      <td>1143644160</td>\n",
       "      <td>36511744</td>\n",
       "      <td>1269661696</td>\n",
       "    </tr>\n",
       "    <tr>\n",
       "      <th>2023/12/31</th>\n",
       "      <td>-40263680</td>\n",
       "      <td>428204032</td>\n",
       "      <td>0</td>\n",
       "      <td>163840</td>\n",
       "      <td>58204160</td>\n",
       "      <td>26714112</td>\n",
       "      <td>473022464</td>\n",
       "    </tr>\n",
       "    <tr>\n",
       "      <th>2024/01/01</th>\n",
       "      <td>-83853312</td>\n",
       "      <td>192020480</td>\n",
       "      <td>0</td>\n",
       "      <td>155648</td>\n",
       "      <td>2575785984</td>\n",
       "      <td>56164352</td>\n",
       "      <td>2740273152</td>\n",
       "    </tr>\n",
       "    <tr>\n",
       "      <th>2024/01/02</th>\n",
       "      <td>-12976128</td>\n",
       "      <td>199270400</td>\n",
       "      <td>0</td>\n",
       "      <td>155648</td>\n",
       "      <td>6324224</td>\n",
       "      <td>39067648</td>\n",
       "      <td>231841792</td>\n",
       "    </tr>\n",
       "    <tr>\n",
       "      <th>2024/01/03</th>\n",
       "      <td>188416</td>\n",
       "      <td>225107968</td>\n",
       "      <td>0</td>\n",
       "      <td>188416</td>\n",
       "      <td>571310080</td>\n",
       "      <td>60907520</td>\n",
       "      <td>857702400</td>\n",
       "    </tr>\n",
       "    <tr>\n",
       "      <th>2024/01/04</th>\n",
       "      <td>360448</td>\n",
       "      <td>134627328</td>\n",
       "      <td>0</td>\n",
       "      <td>155648</td>\n",
       "      <td>100638720</td>\n",
       "      <td>48103424</td>\n",
       "      <td>283885568</td>\n",
       "    </tr>\n",
       "    <tr>\n",
       "      <th>2024/01/05</th>\n",
       "      <td>5472256</td>\n",
       "      <td>266117120</td>\n",
       "      <td>0</td>\n",
       "      <td>172032</td>\n",
       "      <td>1097916416</td>\n",
       "      <td>26738688</td>\n",
       "      <td>1396416512</td>\n",
       "    </tr>\n",
       "    <tr>\n",
       "      <th>2024/01/06</th>\n",
       "      <td>-11591680</td>\n",
       "      <td>184737792</td>\n",
       "      <td>0</td>\n",
       "      <td>180224</td>\n",
       "      <td>34660352</td>\n",
       "      <td>53846016</td>\n",
       "      <td>261832704</td>\n",
       "    </tr>\n",
       "    <tr>\n",
       "      <th>2024/01/07</th>\n",
       "      <td>11698176</td>\n",
       "      <td>182239232</td>\n",
       "      <td>0</td>\n",
       "      <td>163840</td>\n",
       "      <td>342425600</td>\n",
       "      <td>32604160</td>\n",
       "      <td>569131008</td>\n",
       "    </tr>\n",
       "    <tr>\n",
       "      <th>2024/01/08</th>\n",
       "      <td>-13574144</td>\n",
       "      <td>0</td>\n",
       "      <td>0</td>\n",
       "      <td>163840</td>\n",
       "      <td>34365440</td>\n",
       "      <td>6447104</td>\n",
       "      <td>27402240</td>\n",
       "    </tr>\n",
       "    <tr>\n",
       "      <th>2024/01/09</th>\n",
       "      <td>671744</td>\n",
       "      <td>35782656</td>\n",
       "      <td>0</td>\n",
       "      <td>180224</td>\n",
       "      <td>127221760</td>\n",
       "      <td>20480000</td>\n",
       "      <td>184336384</td>\n",
       "    </tr>\n",
       "  </tbody>\n",
       "</table>\n",
       "</div>"
      ],
      "text/plain": [
       "            amount_in_out  dapp_interaction  smart_contract  token_decimals  \\\n",
       "time                                                                          \n",
       "2023/12/29       40280064         171638784               0          204800   \n",
       "2023/12/30       89194496            139264               0          172032   \n",
       "2023/12/31      -40263680         428204032               0          163840   \n",
       "2024/01/01      -83853312         192020480               0          155648   \n",
       "2024/01/02      -12976128         199270400               0          155648   \n",
       "2024/01/03         188416         225107968               0          188416   \n",
       "2024/01/04         360448         134627328               0          155648   \n",
       "2024/01/05        5472256         266117120               0          172032   \n",
       "2024/01/06      -11591680         184737792               0          180224   \n",
       "2024/01/07       11698176         182239232               0          163840   \n",
       "2024/01/08      -13574144                 0               0          163840   \n",
       "2024/01/09         671744          35782656               0          180224   \n",
       "\n",
       "            token_transfer  wrapped_token         sum  \n",
       "time                                                   \n",
       "2023/12/29       285523968       39149568   536797184  \n",
       "2023/12/30      1143644160       36511744  1269661696  \n",
       "2023/12/31        58204160       26714112   473022464  \n",
       "2024/01/01      2575785984       56164352  2740273152  \n",
       "2024/01/02         6324224       39067648   231841792  \n",
       "2024/01/03       571310080       60907520   857702400  \n",
       "2024/01/04       100638720       48103424   283885568  \n",
       "2024/01/05      1097916416       26738688  1396416512  \n",
       "2024/01/06        34660352       53846016   261832704  \n",
       "2024/01/07       342425600       32604160   569131008  \n",
       "2024/01/08        34365440        6447104    27402240  \n",
       "2024/01/09       127221760       20480000   184336384  "
      ]
     },
     "execution_count": 7,
     "metadata": {},
     "output_type": "execute_result"
    }
   ],
   "source": [
    "_id = 0\n",
    "print(schemas[_id])\n",
    "differences[schemas[_id]]"
   ]
  },
  {
   "cell_type": "code",
   "execution_count": 8,
   "metadata": {},
   "outputs": [
    {
     "name": "stdout",
     "output_type": "stream",
     "text": [
      "chain_0x38: 0.1716766357421875\n",
      "chain_0x1: 0.01978302001953125\n",
      "chain_0xfa: 0.00501251220703125\n",
      "chain_0x89: 0.161102294921875\n",
      "chain_0xa: 0.0044708251953125\n",
      "chain_0xa4b1: 0.35504913330078125\n",
      "chain_0xa86a: 0.05002593994140625\n",
      "chain_0x2b6653dc: 0.22891998291015625\n"
     ]
    }
   ],
   "source": [
    "for schema in schemas:\n",
    "    # print(f\"{schema}: {differences[schema].loc['2024/01/03'] / (2**30)}\")\n",
    "    print(f\"{schema}: {differences[schema]['sum'][dates[-1]] / (2**30)}\")"
   ]
  },
  {
   "cell_type": "code",
   "execution_count": 9,
   "metadata": {},
   "outputs": [
    {
     "data": {
      "text/plain": [
       "{'2023/12/29': 2.6023483276367188,\n",
       " '2023/12/30': 3.5559539794921875,\n",
       " '2023/12/31': 3.98284912109375,\n",
       " '2024/01/01': 5.17938232421875,\n",
       " '2024/01/02': 4.002708435058594,\n",
       " '2024/01/03': 2.9643096923828125,\n",
       " '2024/01/04': 4.2373199462890625,\n",
       " '2024/01/05': 3.7888641357421875,\n",
       " '2024/01/06': 2.9591445922851562,\n",
       " '2024/01/07': 1.476226806640625,\n",
       " '2024/01/08': 1.1546783447265625,\n",
       " '2024/01/09': 0.9960403442382812}"
      ]
     },
     "execution_count": 9,
     "metadata": {},
     "output_type": "execute_result"
    }
   ],
   "source": [
    "total_increases = dict()\n",
    "for _date in dates[1:]:\n",
    "    _sum_all = 0\n",
    "    for schema in schemas:\n",
    "        _sum_all += differences[schema].loc[_date, 'sum']\n",
    "    total_increases[_date] = _sum_all / (2**30)\n",
    "    \n",
    "total_increases"
   ]
  }
 ],
 "metadata": {
  "kernelspec": {
   "display_name": "venv",
   "language": "python",
   "name": "python3"
  },
  "language_info": {
   "codemirror_mode": {
    "name": "ipython",
    "version": 3
   },
   "file_extension": ".py",
   "mimetype": "text/x-python",
   "name": "python",
   "nbconvert_exporter": "python",
   "pygments_lexer": "ipython3",
   "version": "3.10.14"
  }
 },
 "nbformat": 4,
 "nbformat_minor": 2
}
