{
 "cells": [
  {
   "cell_type": "code",
   "execution_count": 1,
   "metadata": {},
   "outputs": [],
   "source": [
    "%load_ext autoreload\n",
    "%autoreload 2\n",
    "import os\n",
    "import sys\n",
    "sys.path.append(os.path.dirname(sys.path[0]))"
   ]
  },
  {
   "cell_type": "code",
   "execution_count": 2,
   "metadata": {},
   "outputs": [],
   "source": [
    "import pandas as pd\n",
    "from databases.postgresql import PostgresDB, Session"
   ]
  },
  {
   "cell_type": "code",
   "execution_count": 44,
   "metadata": {},
   "outputs": [
    {
     "data": {
      "text/plain": [
       "[['2023/12/28', '2023/12/29'],\n",
       " ['2023/12/29', '2023/12/30'],\n",
       " ['2023/12/30', '2023/12/31'],\n",
       " ['2023/12/31', '2024/01/01'],\n",
       " ['2024/01/01', '2024/01/02']]"
      ]
     },
     "execution_count": 44,
     "metadata": {},
     "output_type": "execute_result"
    }
   ],
   "source": [
    "dates = [\n",
    "'2023/12/28',\n",
    "'2023/12/29',\n",
    "'2023/12/30',\n",
    "'2023/12/31',\n",
    "'2024/01/01',\n",
    "'2024/01/02']\n",
    "\n",
    "dates_pairs = list()\n",
    "for i in range(0, len(dates) - 1):\n",
    "    dates_pairs.append([dates[i], dates[i+1]])\n",
    "dates_pairs"
   ]
  },
  {
   "cell_type": "code",
   "execution_count": 82,
   "metadata": {},
   "outputs": [],
   "source": [
    "schemas = ['chain_0x38', 'chain_0x1', 'chain_0xfa', 'chain_0x89',\n",
    "            'chain_0xa', 'chain_0xa4b1', 'chain_0xa86a', 'chain_0x2b6653dc']\n",
    "\n",
    "tables_sizes = dict()\n",
    "\n",
    "tables = ['amount_in_out',\t'dapp_interaction',\t'smart_contract',\t'token_decimals',\t'token_transfer', 'wrapped_token']\n",
    "\n",
    "for schema in schemas:\n",
    "    tables_sizes[schema] = pd.read_csv(f'../data/{schema}_tables_size.csv', index_col='time')\n",
    "    tables_sizes[schema] = tables_sizes[schema].loc[dates, tables]\n",
    "    tables_sizes[schema] = tables_sizes[schema].apply(pd.to_numeric)\n",
    "\n"
   ]
  },
  {
   "cell_type": "code",
   "execution_count": 83,
   "metadata": {},
   "outputs": [
    {
     "data": {
      "text/html": [
       "<div>\n",
       "<style scoped>\n",
       "    .dataframe tbody tr th:only-of-type {\n",
       "        vertical-align: middle;\n",
       "    }\n",
       "\n",
       "    .dataframe tbody tr th {\n",
       "        vertical-align: top;\n",
       "    }\n",
       "\n",
       "    .dataframe thead th {\n",
       "        text-align: right;\n",
       "    }\n",
       "</style>\n",
       "<table border=\"1\" class=\"dataframe\">\n",
       "  <thead>\n",
       "    <tr style=\"text-align: right;\">\n",
       "      <th></th>\n",
       "      <th>amount_in_out</th>\n",
       "      <th>dapp_interaction</th>\n",
       "      <th>smart_contract</th>\n",
       "      <th>token_decimals</th>\n",
       "      <th>token_transfer</th>\n",
       "      <th>wrapped_token</th>\n",
       "    </tr>\n",
       "    <tr>\n",
       "      <th>time</th>\n",
       "      <th></th>\n",
       "      <th></th>\n",
       "      <th></th>\n",
       "      <th></th>\n",
       "      <th></th>\n",
       "      <th></th>\n",
       "    </tr>\n",
       "  </thead>\n",
       "  <tbody>\n",
       "    <tr>\n",
       "      <th>2024/01/02</th>\n",
       "      <td>9764864</td>\n",
       "      <td>29351936</td>\n",
       "      <td>0</td>\n",
       "      <td>57344</td>\n",
       "      <td>1443471360</td>\n",
       "      <td>236642304</td>\n",
       "    </tr>\n",
       "  </tbody>\n",
       "</table>\n",
       "</div>"
      ],
      "text/plain": [
       "            amount_in_out  dapp_interaction  smart_contract  token_decimals  \\\n",
       "time                                                                          \n",
       "2024/01/02        9764864          29351936               0           57344   \n",
       "\n",
       "            token_transfer  wrapped_token  \n",
       "time                                       \n",
       "2024/01/02      1443471360      236642304  "
      ]
     },
     "execution_count": 83,
     "metadata": {},
     "output_type": "execute_result"
    }
   ],
   "source": [
    "def subtract_rows(df: pd.DataFrame, date_1: str, date_2):\n",
    "    _diffs = (df.loc[date_2] - df.loc[date_1])\n",
    "    _diffs = _diffs.to_frame().T\n",
    "    _diffs['time'] = date_2\n",
    "    _diffs.set_index('time', inplace=True)\n",
    "    return _diffs\n",
    "\n",
    "subtract_rows(df=tables_sizes[schemas[3]], date_2='2024/01/02', date_1='2024/01/01')"
   ]
  },
  {
   "cell_type": "code",
   "execution_count": 86,
   "metadata": {},
   "outputs": [],
   "source": [
    "differences = dict()\n",
    "for schema in schemas:\n",
    "    # differences[schema] = pd.DataFrame()\n",
    "    for _i, _dates_pair in enumerate(dates_pairs):\n",
    "        _diffs = subtract_rows(df=tables_sizes[schema], date_2=_dates_pair[1], date_1=_dates_pair[0])\n",
    "        if _i < 1:\n",
    "            differences[schema] = _diffs\n",
    "        else:\n",
    "            differences[schema] = pd.concat([differences[schema], _diffs])\n",
    "            \n",
    "    differences[schema]['sum'] = differences[schema].sum(axis=1)"
   ]
  },
  {
   "cell_type": "code",
   "execution_count": 87,
   "metadata": {},
   "outputs": [
    {
     "name": "stdout",
     "output_type": "stream",
     "text": [
      "chain_0x89\n"
     ]
    },
    {
     "data": {
      "text/html": [
       "<div>\n",
       "<style scoped>\n",
       "    .dataframe tbody tr th:only-of-type {\n",
       "        vertical-align: middle;\n",
       "    }\n",
       "\n",
       "    .dataframe tbody tr th {\n",
       "        vertical-align: top;\n",
       "    }\n",
       "\n",
       "    .dataframe thead th {\n",
       "        text-align: right;\n",
       "    }\n",
       "</style>\n",
       "<table border=\"1\" class=\"dataframe\">\n",
       "  <thead>\n",
       "    <tr style=\"text-align: right;\">\n",
       "      <th></th>\n",
       "      <th>amount_in_out</th>\n",
       "      <th>dapp_interaction</th>\n",
       "      <th>smart_contract</th>\n",
       "      <th>token_decimals</th>\n",
       "      <th>token_transfer</th>\n",
       "      <th>wrapped_token</th>\n",
       "      <th>sum</th>\n",
       "    </tr>\n",
       "    <tr>\n",
       "      <th>time</th>\n",
       "      <th></th>\n",
       "      <th></th>\n",
       "      <th></th>\n",
       "      <th></th>\n",
       "      <th></th>\n",
       "      <th></th>\n",
       "      <th></th>\n",
       "    </tr>\n",
       "  </thead>\n",
       "  <tbody>\n",
       "    <tr>\n",
       "      <th>2023/12/29</th>\n",
       "      <td>-2351104</td>\n",
       "      <td>32038912</td>\n",
       "      <td>0</td>\n",
       "      <td>65536</td>\n",
       "      <td>78692352</td>\n",
       "      <td>713064448</td>\n",
       "      <td>821510144</td>\n",
       "    </tr>\n",
       "    <tr>\n",
       "      <th>2023/12/30</th>\n",
       "      <td>6709248</td>\n",
       "      <td>44318720</td>\n",
       "      <td>8192</td>\n",
       "      <td>40960</td>\n",
       "      <td>141484032</td>\n",
       "      <td>876765184</td>\n",
       "      <td>1069326336</td>\n",
       "    </tr>\n",
       "    <tr>\n",
       "      <th>2023/12/31</th>\n",
       "      <td>2785280</td>\n",
       "      <td>53207040</td>\n",
       "      <td>0</td>\n",
       "      <td>65536</td>\n",
       "      <td>1295654912</td>\n",
       "      <td>1004724224</td>\n",
       "      <td>2356436992</td>\n",
       "    </tr>\n",
       "    <tr>\n",
       "      <th>2024/01/01</th>\n",
       "      <td>-245760</td>\n",
       "      <td>59015168</td>\n",
       "      <td>0</td>\n",
       "      <td>65536</td>\n",
       "      <td>145793024</td>\n",
       "      <td>700121088</td>\n",
       "      <td>904749056</td>\n",
       "    </tr>\n",
       "    <tr>\n",
       "      <th>2024/01/02</th>\n",
       "      <td>9764864</td>\n",
       "      <td>29351936</td>\n",
       "      <td>0</td>\n",
       "      <td>57344</td>\n",
       "      <td>1443471360</td>\n",
       "      <td>236642304</td>\n",
       "      <td>1719287808</td>\n",
       "    </tr>\n",
       "  </tbody>\n",
       "</table>\n",
       "</div>"
      ],
      "text/plain": [
       "            amount_in_out  dapp_interaction  smart_contract  token_decimals  \\\n",
       "time                                                                          \n",
       "2023/12/29       -2351104          32038912               0           65536   \n",
       "2023/12/30        6709248          44318720            8192           40960   \n",
       "2023/12/31        2785280          53207040               0           65536   \n",
       "2024/01/01        -245760          59015168               0           65536   \n",
       "2024/01/02        9764864          29351936               0           57344   \n",
       "\n",
       "            token_transfer  wrapped_token         sum  \n",
       "time                                                   \n",
       "2023/12/29        78692352      713064448   821510144  \n",
       "2023/12/30       141484032      876765184  1069326336  \n",
       "2023/12/31      1295654912     1004724224  2356436992  \n",
       "2024/01/01       145793024      700121088   904749056  \n",
       "2024/01/02      1443471360      236642304  1719287808  "
      ]
     },
     "execution_count": 87,
     "metadata": {},
     "output_type": "execute_result"
    }
   ],
   "source": [
    "print(schemas[3])\n",
    "differences[schemas[3]]"
   ]
  },
  {
   "cell_type": "code",
   "execution_count": 91,
   "metadata": {},
   "outputs": [
    {
     "data": {
      "text/plain": [
       "{'2023/12/29': 2794250240.0,\n",
       " '2023/12/30': 3818176512.0,\n",
       " '2023/12/31': 4276551680.0,\n",
       " '2024/01/01': 5561319424.0,\n",
       " '2024/01/02': 4297875456.0}"
      ]
     },
     "execution_count": 91,
     "metadata": {},
     "output_type": "execute_result"
    }
   ],
   "source": [
    "total_increases = dict()\n",
    "for _date in dates[1:]:\n",
    "    _sum_all = 0\n",
    "    for schema in schemas:\n",
    "        _sum_all += differences[schema].loc[_date, 'sum']\n",
    "    total_increases[_date] = _sum_all\n",
    "    \n",
    "total_increases"
   ]
  },
  {
   "cell_type": "code",
   "execution_count": 92,
   "metadata": {},
   "outputs": [
    {
     "data": {
      "text/html": [
       "<div>\n",
       "<style scoped>\n",
       "    .dataframe tbody tr th:only-of-type {\n",
       "        vertical-align: middle;\n",
       "    }\n",
       "\n",
       "    .dataframe tbody tr th {\n",
       "        vertical-align: top;\n",
       "    }\n",
       "\n",
       "    .dataframe thead th {\n",
       "        text-align: right;\n",
       "    }\n",
       "</style>\n",
       "<table border=\"1\" class=\"dataframe\">\n",
       "  <thead>\n",
       "    <tr style=\"text-align: right;\">\n",
       "      <th></th>\n",
       "      <th>amount_in_out</th>\n",
       "      <th>dapp_interaction</th>\n",
       "      <th>smart_contract</th>\n",
       "      <th>token_decimals</th>\n",
       "      <th>token_transfer</th>\n",
       "      <th>wrapped_token</th>\n",
       "      <th>sum</th>\n",
       "    </tr>\n",
       "    <tr>\n",
       "      <th>time</th>\n",
       "      <th></th>\n",
       "      <th></th>\n",
       "      <th></th>\n",
       "      <th></th>\n",
       "      <th></th>\n",
       "      <th></th>\n",
       "      <th></th>\n",
       "    </tr>\n",
       "  </thead>\n",
       "  <tbody>\n",
       "    <tr>\n",
       "      <th>2023/12/29</th>\n",
       "      <td>40280064</td>\n",
       "      <td>171638784</td>\n",
       "      <td>0</td>\n",
       "      <td>204800</td>\n",
       "      <td>285523968</td>\n",
       "      <td>39149568</td>\n",
       "      <td>536797184</td>\n",
       "    </tr>\n",
       "    <tr>\n",
       "      <th>2023/12/30</th>\n",
       "      <td>89194496</td>\n",
       "      <td>139264</td>\n",
       "      <td>0</td>\n",
       "      <td>172032</td>\n",
       "      <td>1143644160</td>\n",
       "      <td>36511744</td>\n",
       "      <td>1269661696</td>\n",
       "    </tr>\n",
       "    <tr>\n",
       "      <th>2023/12/31</th>\n",
       "      <td>-40263680</td>\n",
       "      <td>428204032</td>\n",
       "      <td>0</td>\n",
       "      <td>163840</td>\n",
       "      <td>58204160</td>\n",
       "      <td>26714112</td>\n",
       "      <td>473022464</td>\n",
       "    </tr>\n",
       "    <tr>\n",
       "      <th>2024/01/01</th>\n",
       "      <td>-83853312</td>\n",
       "      <td>192020480</td>\n",
       "      <td>0</td>\n",
       "      <td>155648</td>\n",
       "      <td>2575785984</td>\n",
       "      <td>56164352</td>\n",
       "      <td>2740273152</td>\n",
       "    </tr>\n",
       "    <tr>\n",
       "      <th>2024/01/02</th>\n",
       "      <td>-12976128</td>\n",
       "      <td>199270400</td>\n",
       "      <td>0</td>\n",
       "      <td>155648</td>\n",
       "      <td>6324224</td>\n",
       "      <td>39067648</td>\n",
       "      <td>231841792</td>\n",
       "    </tr>\n",
       "  </tbody>\n",
       "</table>\n",
       "</div>"
      ],
      "text/plain": [
       "            amount_in_out  dapp_interaction  smart_contract  token_decimals  \\\n",
       "time                                                                          \n",
       "2023/12/29       40280064         171638784               0          204800   \n",
       "2023/12/30       89194496            139264               0          172032   \n",
       "2023/12/31      -40263680         428204032               0          163840   \n",
       "2024/01/01      -83853312         192020480               0          155648   \n",
       "2024/01/02      -12976128         199270400               0          155648   \n",
       "\n",
       "            token_transfer  wrapped_token         sum  \n",
       "time                                                   \n",
       "2023/12/29       285523968       39149568   536797184  \n",
       "2023/12/30      1143644160       36511744  1269661696  \n",
       "2023/12/31        58204160       26714112   473022464  \n",
       "2024/01/01      2575785984       56164352  2740273152  \n",
       "2024/01/02         6324224       39067648   231841792  "
      ]
     },
     "execution_count": 92,
     "metadata": {},
     "output_type": "execute_result"
    }
   ],
   "source": [
    "differences['chain_0x38']"
   ]
  }
 ],
 "metadata": {
  "kernelspec": {
   "display_name": "venv",
   "language": "python",
   "name": "python3"
  },
  "language_info": {
   "codemirror_mode": {
    "name": "ipython",
    "version": 3
   },
   "file_extension": ".py",
   "mimetype": "text/x-python",
   "name": "python",
   "nbconvert_exporter": "python",
   "pygments_lexer": "ipython3",
   "version": "3.10.13"
  }
 },
 "nbformat": 4,
 "nbformat_minor": 2
}
