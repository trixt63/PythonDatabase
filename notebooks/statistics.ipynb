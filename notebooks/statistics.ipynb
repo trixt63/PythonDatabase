{
 "cells": [
  {
   "cell_type": "code",
   "execution_count": 3,
   "metadata": {},
   "outputs": [
    {
     "name": "stdout",
     "output_type": "stream",
     "text": [
      "The autoreload extension is already loaded. To reload it, use:\n",
      "  %reload_ext autoreload\n"
     ]
    }
   ],
   "source": [
    "%load_ext autoreload\n",
    "%autoreload 2\n",
    "import os\n",
    "import sys\n",
    "sys.path.append(os.path.dirname(sys.path[0]))"
   ]
  },
  {
   "cell_type": "code",
   "execution_count": 4,
   "metadata": {},
   "outputs": [],
   "source": [
    "import pandas as pd\n",
    "from databases.postgresql import PostgresDB, Session"
   ]
  },
  {
   "cell_type": "code",
   "execution_count": 5,
   "metadata": {},
   "outputs": [],
   "source": [
    "pg = PostgresDB()"
   ]
  },
  {
   "cell_type": "code",
   "execution_count": 10,
   "metadata": {},
   "outputs": [],
   "source": [
    "sizes_data = pg.get_tables_sizes_on_all_schema('token_transfer')\n",
    "sizes_dict = {k: [v] for k, v in sizes_data.items()}"
   ]
  },
  {
   "cell_type": "code",
   "execution_count": 11,
   "metadata": {},
   "outputs": [
    {
     "data": {
      "text/plain": [
       "{'chain_0x38': [468786984],\n",
       " 'chain_0x89': [316860809],\n",
       " 'chain_0x2b6653dc': [162389472],\n",
       " 'chain_0xfa': [135378746],\n",
       " 'chain_0x1': [106509698],\n",
       " 'chain_0xa4b1': [88725776],\n",
       " 'chain_0xa': [61846026],\n",
       " 'chain_0xa86a': [27020990]}"
      ]
     },
     "execution_count": 11,
     "metadata": {},
     "output_type": "execute_result"
    }
   ],
   "source": [
    "n_rows_data = pg.get_tables_n_rows('token_transfer')\n",
    "n_rows_dict = {k: [v] for k, v in n_rows_data.items()}"
   ]
  },
  {
   "cell_type": "code",
   "execution_count": 28,
   "metadata": {},
   "outputs": [
    {
     "ename": "NameError",
     "evalue": "name 'sizes_dict' is not defined",
     "output_type": "error",
     "traceback": [
      "\u001b[0;31m---------------------------------------------------------------------------\u001b[0m",
      "\u001b[0;31mNameError\u001b[0m                                 Traceback (most recent call last)",
      "Cell \u001b[0;32mIn[28], line 1\u001b[0m\n\u001b[0;32m----> 1\u001b[0m sizes_sum \u001b[38;5;241m=\u001b[39m \u001b[38;5;28msum\u001b[39m(\u001b[38;5;28mint\u001b[39m(v[\u001b[38;5;241m0\u001b[39m][:\u001b[38;5;241m-\u001b[39m\u001b[38;5;241m3\u001b[39m]) \u001b[38;5;28;01mfor\u001b[39;00m k, v \u001b[38;5;129;01min\u001b[39;00m \u001b[43msizes_dict\u001b[49m\u001b[38;5;241m.\u001b[39mitems() \u001b[38;5;28;01mif\u001b[39;00m k \u001b[38;5;241m!=\u001b[39m \u001b[38;5;124m'\u001b[39m\u001b[38;5;124mindex\u001b[39m\u001b[38;5;124m'\u001b[39m)\n\u001b[1;32m      2\u001b[0m nrows_sum \u001b[38;5;241m=\u001b[39m \u001b[38;5;28msum\u001b[39m([v[\u001b[38;5;241m0\u001b[39m] \u001b[38;5;28;01mfor\u001b[39;00m k, v \u001b[38;5;129;01min\u001b[39;00m n_rows_dict\u001b[38;5;241m.\u001b[39mitems() \u001b[38;5;28;01mif\u001b[39;00m k \u001b[38;5;241m!=\u001b[39m \u001b[38;5;124m'\u001b[39m\u001b[38;5;124mindex\u001b[39m\u001b[38;5;124m'\u001b[39m])\n\u001b[1;32m      4\u001b[0m sizes_dict[\u001b[38;5;124m'\u001b[39m\u001b[38;5;124msum\u001b[39m\u001b[38;5;124m'\u001b[39m] \u001b[38;5;241m=\u001b[39m \u001b[38;5;124mf\u001b[39m\u001b[38;5;124m'\u001b[39m\u001b[38;5;132;01m{\u001b[39;00msizes_sum\u001b[38;5;132;01m}\u001b[39;00m\u001b[38;5;124m GB\u001b[39m\u001b[38;5;124m'\u001b[39m\n",
      "\u001b[0;31mNameError\u001b[0m: name 'sizes_dict' is not defined"
     ]
    }
   ],
   "source": [
    "sizes_sum = sum(int(v[0][:-3]) for k, v in sizes_dict.items() if k != 'index')\n",
    "nrows_sum = sum([v[0] for k, v in n_rows_dict.items() if k != 'index'])\n",
    "\n",
    "sizes_dict['sum'] = f'{sizes_sum} GB'\n",
    "n_rows_dict['sum'] = nrows_sum\n",
    "\n",
    "sizes_dict['index'] = 'size'\n",
    "n_rows_dict['index'] = 'number_of_rows'\n",
    "\n",
    "sizes_df = pd.DataFrame.from_dict(sizes_dict)\n",
    "sizes_df.set_index(keys=['index'], inplace=True)\n",
    "\n",
    "n_rows_df = pd.DataFrame.from_dict(n_rows_dict)\n",
    "n_rows_df.set_index(keys=['index'], inplace=True)\n",
    "\n",
    "final = pd.concat([sizes_df, n_rows_df])\n",
    "final"
   ]
  },
  {
   "cell_type": "code",
   "execution_count": 18,
   "metadata": {},
   "outputs": [
    {
     "data": {
      "text/plain": [
       "1367518501"
      ]
     },
     "execution_count": 18,
     "metadata": {},
     "output_type": "execute_result"
    }
   ],
   "source": [
    "nrows_sum = sum([v[0] for k, v in n_rows.items() if k != 'index'])\n",
    "nrows_sum"
   ]
  },
  {
   "cell_type": "code",
   "execution_count": 20,
   "metadata": {},
   "outputs": [
    {
     "data": {
      "text/plain": [
       "517"
      ]
     },
     "execution_count": 20,
     "metadata": {},
     "output_type": "execute_result"
    }
   ],
   "source": [
    "sizes_sum = sum(int(v[0][:-3]) for k, v in sizes.items() if k != 'index')\n",
    "sizes_sum"
   ]
  },
  {
   "cell_type": "code",
   "execution_count": 26,
   "metadata": {},
   "outputs": [
    {
     "data": {
      "text/html": [
       "<div>\n",
       "<style scoped>\n",
       "    .dataframe tbody tr th:only-of-type {\n",
       "        vertical-align: middle;\n",
       "    }\n",
       "\n",
       "    .dataframe tbody tr th {\n",
       "        vertical-align: top;\n",
       "    }\n",
       "\n",
       "    .dataframe thead th {\n",
       "        text-align: right;\n",
       "    }\n",
       "</style>\n",
       "<table border=\"1\" class=\"dataframe\">\n",
       "  <thead>\n",
       "    <tr style=\"text-align: right;\">\n",
       "      <th></th>\n",
       "      <th>chain_0x38</th>\n",
       "      <th>chain_0x1</th>\n",
       "      <th>chain_0xfa</th>\n",
       "      <th>chain_0x89</th>\n",
       "      <th>chain_0xa</th>\n",
       "      <th>chain_0xa86a</th>\n",
       "      <th>chain_0x2b6653dc</th>\n",
       "      <th>chain_0xa4b1</th>\n",
       "      <th>sum</th>\n",
       "    </tr>\n",
       "    <tr>\n",
       "      <th>index</th>\n",
       "      <th></th>\n",
       "      <th></th>\n",
       "      <th></th>\n",
       "      <th></th>\n",
       "      <th></th>\n",
       "      <th></th>\n",
       "      <th></th>\n",
       "      <th></th>\n",
       "      <th></th>\n",
       "    </tr>\n",
       "  </thead>\n",
       "  <tbody>\n",
       "    <tr>\n",
       "      <th>size</th>\n",
       "      <td>166 GB</td>\n",
       "      <td>41 GB</td>\n",
       "      <td>52 GB</td>\n",
       "      <td>120 GB</td>\n",
       "      <td>23 GB</td>\n",
       "      <td>11 GB</td>\n",
       "      <td>71 GB</td>\n",
       "      <td>33 GB</td>\n",
       "      <td>517 GB</td>\n",
       "    </tr>\n",
       "    <tr>\n",
       "      <th>number_of_rows</th>\n",
       "      <td>468786984</td>\n",
       "      <td>106509698</td>\n",
       "      <td>135378746</td>\n",
       "      <td>316860809</td>\n",
       "      <td>61846026</td>\n",
       "      <td>27020990</td>\n",
       "      <td>162389472</td>\n",
       "      <td>88725776</td>\n",
       "      <td>1367518501</td>\n",
       "    </tr>\n",
       "  </tbody>\n",
       "</table>\n",
       "</div>"
      ],
      "text/plain": [
       "               chain_0x38  chain_0x1 chain_0xfa chain_0x89 chain_0xa  \\\n",
       "index                                                                  \n",
       "size               166 GB      41 GB      52 GB     120 GB     23 GB   \n",
       "number_of_rows  468786984  106509698  135378746  316860809  61846026   \n",
       "\n",
       "               chain_0xa86a chain_0x2b6653dc chain_0xa4b1         sum  \n",
       "index                                                                  \n",
       "size                  11 GB            71 GB        33 GB      517 GB  \n",
       "number_of_rows     27020990        162389472     88725776  1367518501  "
      ]
     },
     "execution_count": 26,
     "metadata": {},
     "output_type": "execute_result"
    }
   ],
   "source": [
    "final.insert(8, 'sum', [f'{sizes_sum} GB', nrows_sum], True)\n",
    "final"
   ]
  },
  {
   "cell_type": "code",
   "execution_count": 27,
   "metadata": {},
   "outputs": [],
   "source": [
    "final.to_csv('../data/_stats_token_transfer.csv')"
   ]
  }
 ],
 "metadata": {
  "kernelspec": {
   "display_name": "venv",
   "language": "python",
   "name": "python3"
  },
  "language_info": {
   "codemirror_mode": {
    "name": "ipython",
    "version": 3
   },
   "file_extension": ".py",
   "mimetype": "text/x-python",
   "name": "python",
   "nbconvert_exporter": "python",
   "pygments_lexer": "ipython3",
   "version": "3.10.13"
  }
 },
 "nbformat": 4,
 "nbformat_minor": 2
}
